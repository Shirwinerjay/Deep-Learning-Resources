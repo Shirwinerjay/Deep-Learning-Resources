{
 "cells": [
  {
   "cell_type": "markdown",
   "metadata": {},
   "source": [
    "# Classifying Names with a Character-Level RNN\n",
    "### Author: Sean Robertson\n",
    "\n",
    "We will be building a basic character level RNN to classify words \n",
    "\n",
    "Read it here \n",
    "https://pytorch.org/tutorials/intermediate/char_rnn_classification_tutorial.html\n",
    "\n",
    "1. read the words as a series of characters \n",
    "\n",
    "2. output a prediction and hidden state at each step \n",
    "\n",
    "3. feed the previous hidden state at each next step\n",
    "\n",
    "Take the final prediction as the output i.e., the class the word \n",
    "belongs to \n",
    "\n",
    "Specifically, we’ll train on a few thousand surnames from 18 languages \n",
    "of origin, and predict which language a name is from based on the spelling:\n",
    "\n",
    "\n",
    "\n",
    "## Preparing the data\n",
    "\n",
    "\n",
    "Included in the data/names directory are 18 text files names as \"Language.txt\"\n",
    "\n",
    "Each of the file contains a bunch of names one name per line. Construct a dictionary of lists of names per language \n"
   ]
  },
  {
   "cell_type": "code",
   "execution_count": 1,
   "metadata": {},
   "outputs": [],
   "source": [
    "from __future__ import unicode_literals, print_function, division\n",
    "from io import open\n",
    "import glob\n",
    "import os"
   ]
  },
  {
   "cell_type": "code",
   "execution_count": 2,
   "metadata": {},
   "outputs": [
    {
     "name": "stdout",
     "output_type": "stream",
     "text": [
      "['data/names/Spanish.txt', 'data/names/Arabic.txt', 'data/names/Greek.txt', 'data/names/Polish.txt', 'data/names/Czech.txt', 'data/names/Chinese.txt', 'data/names/Russian.txt', 'data/names/Vietnamese.txt', 'data/names/German.txt', 'data/names/Scottish.txt', 'data/names/Korean.txt', 'data/names/English.txt', 'data/names/Japanese.txt', 'data/names/French.txt', 'data/names/Italian.txt', 'data/names/Dutch.txt', 'data/names/Portuguese.txt', 'data/names/Irish.txt']\n"
     ]
    }
   ],
   "source": [
    "def findFiles(path): return glob.glob(path)\n",
    "\n",
    "print(findFiles('data/names/*.txt'))\n"
   ]
  },
  {
   "cell_type": "code",
   "execution_count": 3,
   "metadata": {},
   "outputs": [
    {
     "data": {
      "text/plain": [
       "57"
      ]
     },
     "execution_count": 3,
     "metadata": {},
     "output_type": "execute_result"
    }
   ],
   "source": [
    "import unicodedata\n",
    "import string\n",
    "\n",
    "all_letters = string.ascii_letters + \" .,;'\"\n",
    "n_letters = len(all_letters)\n",
    "n_letters"
   ]
  },
  {
   "cell_type": "code",
   "execution_count": 4,
   "metadata": {},
   "outputs": [
    {
     "name": "stdout",
     "output_type": "stream",
     "text": [
      "Slusarski\n"
     ]
    }
   ],
   "source": [
    "# Turn a Unicode string to plain ASCII, thanks to http://stackoverflow.com/a/518232/2809427\n",
    "def unicodeToAscii(s):\n",
    "    return ''.join(\n",
    "        c for c in unicodedata.normalize('NFD', s)\n",
    "        if unicodedata.category(c) != 'Mn'\n",
    "        and c in all_letters\n",
    "    )\n",
    "\n",
    "print(unicodeToAscii('Ślusàrski'))\n"
   ]
  },
  {
   "cell_type": "code",
   "execution_count": 5,
   "metadata": {
    "scrolled": true
   },
   "outputs": [
    {
     "name": "stdout",
     "output_type": "stream",
     "text": [
      "data/names/Spanish.txt\n",
      "Spanish\n",
      "<class 'list'> 298\n",
      "data/names/Arabic.txt\n",
      "Arabic\n",
      "<class 'list'> 2000\n",
      "data/names/Greek.txt\n",
      "Greek\n",
      "<class 'list'> 203\n",
      "data/names/Polish.txt\n",
      "Polish\n",
      "<class 'list'> 139\n",
      "data/names/Czech.txt\n",
      "Czech\n",
      "<class 'list'> 519\n",
      "data/names/Chinese.txt\n",
      "Chinese\n",
      "<class 'list'> 268\n",
      "data/names/Russian.txt\n",
      "Russian\n",
      "<class 'list'> 9408\n",
      "data/names/Vietnamese.txt\n",
      "Vietnamese\n",
      "<class 'list'> 73\n",
      "data/names/German.txt\n",
      "German\n",
      "<class 'list'> 724\n",
      "data/names/Scottish.txt\n",
      "Scottish\n",
      "<class 'list'> 100\n",
      "data/names/Korean.txt\n",
      "Korean\n",
      "<class 'list'> 94\n",
      "data/names/English.txt\n",
      "English\n",
      "<class 'list'> 3668\n",
      "data/names/Japanese.txt\n",
      "Japanese\n",
      "<class 'list'> 991\n",
      "data/names/French.txt\n",
      "French\n",
      "<class 'list'> 277\n",
      "data/names/Italian.txt\n",
      "Italian\n",
      "<class 'list'> 709\n",
      "data/names/Dutch.txt\n",
      "Dutch\n",
      "<class 'list'> 297\n",
      "data/names/Portuguese.txt\n",
      "Portuguese\n",
      "<class 'list'> 74\n",
      "data/names/Irish.txt\n",
      "Irish\n",
      "<class 'list'> 232\n",
      "Number of categories: 18\n"
     ]
    }
   ],
   "source": [
    "# Build the category_lines dictionary, a list of names per language\n",
    "category_lines = {}\n",
    "all_categories = []\n",
    "\n",
    "# Read a file and split into lines\n",
    "def readLines(filename):\n",
    "    lines = open(filename, encoding='utf-8').read().strip().split('\\n')\n",
    "    return [unicodeToAscii(line) for line in lines]\n",
    "\n",
    "for filename in findFiles('data/names/*.txt'):\n",
    "    \n",
    "    \"\"\"\n",
    "    \n",
    "    read each of the file individually \n",
    "    read the category name and append it to the dict all_categories \n",
    "    read the lines in the particulat text file \n",
    "    save it as lines \n",
    "    \n",
    "    lines is a dictionary\n",
    "    whose length is the number of words of that language \n",
    "    add all these words (after unicode conversion) \n",
    "    to the category_lines dictionary\n",
    "    \n",
    "    here category_lines[category] = lines \n",
    "    \n",
    "    so it is like \n",
    "    \n",
    "    category_lines [ english : line1, french : line2, etc]\n",
    "    \n",
    "    \"\"\"\n",
    "    \n",
    "    print(filename)\n",
    "    category = os.path.splitext(os.path.basename(filename))[0]\n",
    "    print(category)\n",
    "    all_categories.append(category)\n",
    "    lines = readLines(filename)\n",
    "    print(type(lines), len(lines))\n",
    "    category_lines[category] = lines\n",
    "\n",
    "n_categories = len(all_categories)\n",
    "print(\"Number of categories: {}\".format(n_categories))\n"
   ]
  },
  {
   "cell_type": "code",
   "execution_count": 6,
   "metadata": {},
   "outputs": [
    {
     "name": "stdout",
     "output_type": "stream",
     "text": [
      "['Adam', 'Ahearn', 'Aodh', 'Aodha', 'Aonghuis']\n"
     ]
    }
   ],
   "source": [
    "print(lines[:5])"
   ]
  },
  {
   "cell_type": "markdown",
   "metadata": {},
   "source": [
    "Now we have category_lines, a dictionary mapping each category\n",
    "(language) to a list of lines (names). We also kept track of\n",
    "all_categories (just a list of languages) and n_categories for\n",
    "later reference."
   ]
  },
  {
   "cell_type": "code",
   "execution_count": 7,
   "metadata": {},
   "outputs": [
    {
     "name": "stdout",
     "output_type": "stream",
     "text": [
      "['Zappa', 'Zeni', 'Zini', 'Zino', 'Zunino']\n"
     ]
    }
   ],
   "source": [
    "print(category_lines['Italian'][-5:])"
   ]
  },
  {
   "cell_type": "markdown",
   "metadata": {},
   "source": [
    "## Turning Names into Tensors"
   ]
  },
  {
   "cell_type": "markdown",
   "metadata": {},
   "source": [
    "Now that we have all the names organized we will need to \n",
    "turn them into tensors\n",
    "\n",
    "> single letter = one-hot vector = 1 X n_letters\n",
    "\n",
    "> word = line_length X 1 X n_letters \n",
    "\n",
    "> extra 1 means batch size = 1 "
   ]
  },
  {
   "cell_type": "code",
   "execution_count": 8,
   "metadata": {},
   "outputs": [
    {
     "name": "stdout",
     "output_type": "stream",
     "text": [
      "tensor([[0., 0., 0., 0., 0., 0., 0., 0., 0., 0., 0., 0., 0., 0., 0., 0., 0., 0.,\n",
      "         0., 0., 0., 0., 0., 0., 0., 0., 0., 0., 0., 0., 0., 0., 0., 0., 0., 1.,\n",
      "         0., 0., 0., 0., 0., 0., 0., 0., 0., 0., 0., 0., 0., 0., 0., 0., 0., 0.,\n",
      "         0., 0., 0.]])\n",
      "(tensor([[[1.]]]), tensor([[[26]]]))\n",
      "(tensor([[1.]]), tensor([[26]]))\n",
      "torch.Size([5, 1, 57])\n"
     ]
    }
   ],
   "source": [
    "import torch\n",
    "import torch.optim as optim\n",
    "\n",
    "# Find letter index from all_letters, e.g. \"a\" = 0\n",
    "def letterToIndex(letter):\n",
    "    \n",
    "    \"\"\"\n",
    "    \n",
    "    find the index of the letter \n",
    "    in the vocab all_letters\n",
    "    \n",
    "    \"\"\"\n",
    "    \n",
    "    return all_letters.find(letter)\n",
    "\n",
    "# Just for demonstration, turn a letter into a <1 x n_letters> Tensor\n",
    "def letterToTensor(letter):\n",
    "    \n",
    "    \"\"\"\n",
    "    \n",
    "    a letter is represented as 1 X n_letters\n",
    "    we are first creating a tensor of size with zeros \n",
    "    1 X n_letters \n",
    "    then only the index which corresponds to that letter \n",
    "    is made as 1 the rest of them are kept the same as 0\n",
    "    return the tensor\n",
    "    \n",
    "    \"\"\"\n",
    "    \n",
    "    tensor = torch.zeros(1, n_letters)\n",
    "    tensor[0][letterToIndex(letter)] = 1\n",
    "    return tensor\n",
    "\n",
    "# Turn a line into a <line_length x 1 x n_letters>,\n",
    "# or an array of one-hot letter vectors\n",
    "def lineToTensor(line):\n",
    "    \n",
    "    \"\"\"\n",
    "    \n",
    "    this is basically doing the work of letterToTensor\n",
    "    in much faster fashion\n",
    "    \n",
    "    the size of the tensor is (no of letters in word) X 1 X n_letters \n",
    "    li is the no of letters in word \n",
    "    letter is a single letter \n",
    "    \n",
    "    the second dim is the batch size \n",
    "    so the second dim is \"1\" here \n",
    "    \"\"\"\n",
    "    \n",
    "    tensor = torch.zeros(len(line), 1, n_letters)\n",
    "    for li, letter in enumerate(line):\n",
    "        #print(li, letter)\n",
    "        tensor[li][0][letterToIndex(letter)] = 1\n",
    "    return tensor\n",
    "\n",
    "print(letterToTensor('J'))\n",
    "print(lineToTensor(\"A\").topk(1))\n",
    "print(letterToTensor(\"A\").topk(1))\n",
    "print(lineToTensor('Jones').size())\n"
   ]
  },
  {
   "cell_type": "markdown",
   "metadata": {},
   "source": [
    "# Creating the Network\n",
    "\n",
    "<img src=\"data/Z2xbySO.png\">"
   ]
  },
  {
   "cell_type": "markdown",
   "metadata": {},
   "source": [
    "See the tutorial there [creating recurrent neural networks](\"https://pytorch.org/tutorials/intermediate/char_rnn_classification_tutorial.html#creating-the-network\")\n",
    "\n",
    "Just two linear layers which operate on an input and hidden state with a logsoftmax layer at the end\n",
    "\n",
    "> [input,hidden] --> [combined] (basically concatenation)\n",
    "\n",
    "> [combined] --> i2o --> softmax --> [output]\n",
    "\n",
    "> [combined] --> i2h --> [hidden]\n",
    "\n",
    "To run a step on this network we need to pass an input and a previous hidden state (which we will initialize first \n",
    "with zeros). We get back the output(probability of each language)and a next hidden state (which we keep for the next step). Check that one of the input of the forward step is hidden\n"
   ]
  },
  {
   "cell_type": "code",
   "execution_count": 10,
   "metadata": {},
   "outputs": [
    {
     "name": "stdout",
     "output_type": "stream",
     "text": [
      "i2h: Linear(in_features=185, out_features=128, bias=True)\n",
      "i2o: Linear(in_features=185, out_features=18, bias=True)\n"
     ]
    }
   ],
   "source": [
    "import torch.nn as nn\n",
    "\n",
    "class RNN(nn.Module):\n",
    "    \n",
    "    def __init__(self, input_size, hidden_size, output_size):\n",
    "        super(RNN, self).__init__()\n",
    "\n",
    "        self.hidden_size = hidden_size\n",
    "\n",
    "        self.i2h = nn.Linear(input_size + hidden_size, hidden_size)\n",
    "        print(\"i2h: {}\".format(self.i2h))\n",
    "        self.i2o = nn.Linear(input_size + hidden_size, output_size)\n",
    "        print(\"i2o: {}\".format(self.i2o))\n",
    "        self.softmax = nn.LogSoftmax(dim=1)\n",
    "\n",
    "    def forward(self, input, hidden):\n",
    "        \n",
    "        combined = torch.cat((input, hidden), 1)\n",
    "        hidden = self.i2h(combined)\n",
    "        output = self.i2o(combined)\n",
    "        output = self.softmax(output)\n",
    "        return output, hidden\n",
    "\n",
    "    def initHidden(self):\n",
    "        \n",
    "        \"\"\"\n",
    "        to initialize the hidden states to zeros \n",
    "        \"\"\"\n",
    "        \n",
    "        return torch.zeros(1, self.hidden_size)\n",
    "\n",
    "n_hidden = 128\n",
    "\n",
    "rnn = RNN(n_letters, n_hidden, n_categories)"
   ]
  },
  {
   "cell_type": "code",
   "execution_count": 13,
   "metadata": {},
   "outputs": [
    {
     "name": "stdout",
     "output_type": "stream",
     "text": [
      "RNN(\n",
      "  (i2h): Linear(in_features=185, out_features=128, bias=True)\n",
      "  (i2o): Linear(in_features=185, out_features=18, bias=True)\n",
      "  (softmax): LogSoftmax()\n",
      ")\n",
      "tensor([[-2.8923, -2.8770, -2.9744, -2.8331, -2.9474, -2.8876, -2.8456, -2.8971,\n",
      "         -2.8440, -2.9596, -2.8173, -2.8724, -2.8339, -2.9680, -2.9365, -2.8740,\n",
      "         -2.8652, -2.9222]], grad_fn=<LogSoftmaxBackward>)\n",
      "tensor([[-0.0147,  0.0475, -0.0534, -0.0070, -0.0675, -0.0229, -0.0926, -0.0110,\n",
      "         -0.0287, -0.1374,  0.0031,  0.0343, -0.0984, -0.0948, -0.1127, -0.0215,\n",
      "          0.0713, -0.0985, -0.1153,  0.0637, -0.0386,  0.1128,  0.0428, -0.1036,\n",
      "          0.0864,  0.0565, -0.0937,  0.0434,  0.0191,  0.1259,  0.0372,  0.0720,\n",
      "          0.0472, -0.0208, -0.0260,  0.0151, -0.0340, -0.0409,  0.0269,  0.0665,\n",
      "          0.0409,  0.0311,  0.1387,  0.0069,  0.0317, -0.0490, -0.0814, -0.1225,\n",
      "         -0.0174,  0.0566,  0.0088,  0.1115,  0.0855,  0.0826,  0.0769,  0.0864,\n",
      "          0.0275,  0.0586, -0.0882, -0.0952,  0.0145, -0.0127,  0.0808,  0.0056,\n",
      "          0.0587,  0.0044, -0.0351, -0.1076,  0.0662, -0.1008, -0.0348,  0.0747,\n",
      "          0.0425, -0.0713, -0.0945, -0.0084, -0.0410, -0.0073,  0.0814,  0.0668,\n",
      "         -0.0139,  0.0176,  0.0293, -0.1203,  0.0073,  0.0322, -0.0188, -0.0807,\n",
      "         -0.0692, -0.0519, -0.0199, -0.0369,  0.0013, -0.0409,  0.0417,  0.0847,\n",
      "          0.0374, -0.0387, -0.0117, -0.0612,  0.0909, -0.0310,  0.0288,  0.0037,\n",
      "          0.0556, -0.0966, -0.0095, -0.0436, -0.0444,  0.0032, -0.0289,  0.0911,\n",
      "          0.0799,  0.0538,  0.0122,  0.0016, -0.0989,  0.0326, -0.1136, -0.0233,\n",
      "         -0.0257,  0.0322, -0.0770, -0.0108,  0.0285,  0.0247, -0.0312, -0.0241]],\n",
      "       grad_fn=<ThAddmmBackward>)\n"
     ]
    }
   ],
   "source": [
    "print(rnn)\n",
    "\n",
    "input = letterToTensor('A')\n",
    "\n",
    "hidden =torch.zeros(1, n_hidden)\n",
    "\n",
    "output, next_hidden = rnn(input, hidden)\n",
    "print(output)\n",
    "print(next_hidden)"
   ]
  },
  {
   "cell_type": "code",
   "execution_count": 17,
   "metadata": {},
   "outputs": [
    {
     "name": "stdout",
     "output_type": "stream",
     "text": [
      "tensor([[0., 0., 0., 0., 0., 0., 0., 0., 0., 0., 0., 0., 0., 0., 0., 0., 0., 0.,\n",
      "         0., 0., 0., 0., 0., 0., 0., 0., 1., 0., 0., 0., 0., 0., 0., 0., 0., 0.,\n",
      "         0., 0., 0., 0., 0., 0., 0., 0., 0., 0., 0., 0., 0., 0., 0., 0., 0., 0.,\n",
      "         0., 0., 0.]])\n",
      "torch.Size([1, 57])\n",
      "tensor([[-2.8923, -2.8770, -2.9744, -2.8331, -2.9474, -2.8876, -2.8456, -2.8971,\n",
      "         -2.8440, -2.9596, -2.8173, -2.8724, -2.8339, -2.9680, -2.9365, -2.8740,\n",
      "         -2.8652, -2.9222]], grad_fn=<LogSoftmaxBackward>)\n",
      "torch.Size([1, 18])\n"
     ]
    }
   ],
   "source": [
    "\"\"\"\n",
    "\n",
    "For the sake of efficiency we don’t want to be creating a new \n",
    "Tensor for every step, so we will use lineToTensor instead of \n",
    "letterToTensor and use slices. This could be further optimized \n",
    "by pre-computing batches of Tensors.\n",
    "\n",
    "slices mean we will be taking one word each at a time\n",
    "\n",
    "\"\"\"\n",
    "\n",
    "input = lineToTensor('Albert')\n",
    "hidden = torch.zeros(1, n_hidden)\n",
    "\n",
    "output, next_hidden = rnn(input[0], hidden)\n",
    "print(input[0])\n",
    "print(input[0].shape)\n",
    "print(output)\n",
    "print(output.shape)"
   ]
  },
  {
   "cell_type": "markdown",
   "metadata": {},
   "source": [
    "# Training\n",
    "# Preparing for Training"
   ]
  },
  {
   "cell_type": "code",
   "execution_count": 20,
   "metadata": {},
   "outputs": [
    {
     "name": "stdout",
     "output_type": "stream",
     "text": [
      "('Korean', 10)\n"
     ]
    }
   ],
   "source": [
    "\"\"\"\n",
    "\n",
    "a function to interpret the output of the network\n",
    "which we know to be a likelihood of each category\n",
    "\n",
    "we can use Tensor.topk to get the index of the greatest\n",
    "value\n",
    "\n",
    "output is 1 X no of cat vector \n",
    "\n",
    "check below how this function behaves\n",
    "\n",
    "\"\"\"\n",
    "\n",
    "def categoryFromOutput(output):\n",
    "    top_n, top_i = output.topk(1)\n",
    "    category_i = top_i[0].item()\n",
    "    return all_categories[category_i], category_i\n",
    "\n",
    "print(categoryFromOutput(output))"
   ]
  },
  {
   "cell_type": "code",
   "execution_count": 21,
   "metadata": {},
   "outputs": [
    {
     "name": "stdout",
     "output_type": "stream",
     "text": [
      "torch.Size([1, 18])\n",
      "tensor([[-2.8173]], grad_fn=<TopkBackward>)\n",
      "tensor([[10]])\n",
      "10\n",
      "Korean\n"
     ]
    }
   ],
   "source": [
    "print(output.shape)\n",
    "\n",
    "top_n, top_i = output.topk(1)\n",
    "\n",
    "print(top_n)\n",
    "print(top_i)\n",
    "\n",
    "category_i = top_i[0].item()\n",
    "print(category_i)\n",
    "\n",
    "print(all_categories[category_i])"
   ]
  },
  {
   "cell_type": "code",
   "execution_count": 25,
   "metadata": {},
   "outputs": [
    {
     "name": "stdout",
     "output_type": "stream",
     "text": [
      "category = Vietnamese / line = Chung\n",
      "category = Chinese / line = Zhang\n",
      "category = Vietnamese / line = Luong\n",
      "category = Chinese / line = Gao\n",
      "category = Japanese / line = Teshima\n",
      "category = Japanese / line = Kawasaki\n",
      "category = Japanese / line = Takemura\n",
      "category = Irish / line = Fergus\n",
      "category = Dutch / line = Rademaker\n",
      "category = Scottish / line = Gray\n"
     ]
    }
   ],
   "source": [
    "\"\"\"\n",
    "\n",
    "a quick way to get the training example\n",
    "this is basically \n",
    "a name and its language \n",
    "\n",
    "\"\"\"\n",
    "\n",
    "import random\n",
    "\n",
    "def randomChoice(l):\n",
    "    \"\"\"\n",
    "    returns a random number \n",
    "    to sample from a particular language file\n",
    "    \"\"\"\n",
    "    return l[random.randint(0, len(l) - 1)]\n",
    "\n",
    "def randomTrainingExample():\n",
    "    \n",
    "    \"\"\"\n",
    "    category is a random category generated from \n",
    "    which we will sample the training sample\n",
    "    eg category = \"Dutch\"\n",
    "    \n",
    "    again we will sample a random word from that selected language file \n",
    "    we will save the random word as line \n",
    "    \n",
    "    category_tensor is basically the target tensor\n",
    "    suppose category = 'Durch'\n",
    "    then all_categories.index(category) = \"1\"\n",
    "    \n",
    "    line_tensor is of dimension no of words in line X 1 X n_letters \n",
    "    \n",
    "    we will return everything\n",
    "    \"\"\"\n",
    "    \n",
    "    category = randomChoice(all_categories)\n",
    "    line = randomChoice(category_lines[category])\n",
    "    category_tensor = torch.tensor([all_categories.index(category)], dtype=torch.long)\n",
    "    line_tensor = lineToTensor(line)\n",
    "    #print(line_tensor.shape)\n",
    "    return category, line, category_tensor, line_tensor\n",
    "\n",
    "for i in range(10):\n",
    "    category, line, category_tensor, line_tensor = randomTrainingExample()\n",
    "    print('category =', category, '/ line =', line)\n"
   ]
  },
  {
   "cell_type": "code",
   "execution_count": 26,
   "metadata": {},
   "outputs": [
    {
     "data": {
      "text/plain": [
       "4"
      ]
     },
     "execution_count": 26,
     "metadata": {},
     "output_type": "execute_result"
    }
   ],
   "source": [
    "all_categories.index('Czech')"
   ]
  },
  {
   "cell_type": "markdown",
   "metadata": {},
   "source": [
    "# Training the Network\n"
   ]
  },
  {
   "cell_type": "code",
   "execution_count": 27,
   "metadata": {},
   "outputs": [],
   "source": [
    "\"\"\"\n",
    "\n",
    "Now all it takes to train the network is show it a \n",
    "bunch of examples have it make guesses and tell if its \n",
    "wrong\n",
    "\n",
    "we use NLL loss since the last layer of the RNN is \n",
    "nn.LogSoftmax\n",
    "\n",
    "\"\"\"\n",
    "\n",
    "criterion = nn.NLLLoss()"
   ]
  },
  {
   "cell_type": "code",
   "execution_count": 28,
   "metadata": {},
   "outputs": [],
   "source": [
    "\"\"\"\n",
    "\n",
    "Each loop of training will:\n",
    "\n",
    "    (1) Create input and target tensors\n",
    "    (2) Create a zero initial hidden state\n",
    "    (3) Read each letter in and\n",
    "    (4) Keep hidden state for next letter\n",
    "    (5) Compare final output to target\n",
    "    (6) Back-propagate\n",
    "    (7) Return the output and loss\n",
    "\n",
    "\"\"\"\n",
    "\n",
    "# If you set this too high, it might explode. \n",
    "# If too low, it might not learn\n",
    "learning_rate = 0.005 \n",
    "\n",
    "optimizer = optim.SGD(rnn.parameters(), lr=learning_rate)\n",
    "\n",
    "def train(category_tensor, line_tensor):\n",
    "    \n",
    "    hidden = rnn.initHidden()\n",
    "\n",
    "    rnn.zero_grad()\n",
    "\n",
    "    for i in range(line_tensor.size()[0]):\n",
    "        \n",
    "        output, hidden = rnn(line_tensor[i], hidden)\n",
    "\n",
    "    loss = criterion(output, category_tensor)\n",
    "    \n",
    "    loss.backward()\n",
    "    \n",
    "    \"\"\"\n",
    "    # Add parameters' gradients to their values, \n",
    "    #multiplied by learning rate\n",
    "    for p in rnn.parameters():\n",
    "        p.data.add_(-learning_rate, p.grad.data)\n",
    "    \"\"\"\n",
    "    \n",
    "    optimizer.step()\n",
    "    \n",
    "    return output, loss.item()\n"
   ]
  },
  {
   "cell_type": "code",
   "execution_count": 29,
   "metadata": {},
   "outputs": [
    {
     "name": "stdout",
     "output_type": "stream",
     "text": [
      "5000 5% (0m 9s) 2.6491 Henderson / Russian ✗ (Scottish)\n",
      "10000 10% (0m 18s) 1.9665 Uggeri / Italian ✓\n",
      "15000 15% (0m 27s) 3.4030 Fabian / Arabic ✗ (French)\n",
      "20000 20% (0m 36s) 0.9325 Achthoven / Dutch ✓\n",
      "25000 25% (0m 45s) 0.8908 Tong / Vietnamese ✓\n",
      "30000 30% (0m 55s) 5.2624 Mas / Chinese ✗ (German)\n",
      "35000 35% (1m 4s) 0.5179 Tassioglou / Greek ✓\n",
      "40000 40% (1m 13s) 0.5036 Bilias / Greek ✓\n",
      "45000 45% (1m 21s) 2.8412 Rory / English ✗ (Irish)\n",
      "50000 50% (1m 30s) 1.3459 Krytinar / Czech ✓\n",
      "55000 55% (1m 39s) 1.3200 Abreu / Portuguese ✓\n",
      "60000 60% (1m 48s) 0.7616 Bei / Chinese ✓\n",
      "65000 65% (1m 57s) 0.4709 Perreault / French ✓\n",
      "70000 70% (2m 6s) 0.6667 D'cruze / Portuguese ✓\n",
      "75000 75% (2m 15s) 0.9722 Garcia / Portuguese ✓\n",
      "80000 80% (2m 24s) 1.2995 Teoh / Chinese ✓\n",
      "85000 85% (2m 33s) 1.4630 Battaglia / Greek ✗ (Italian)\n",
      "90000 90% (2m 41s) 1.3339 Vacca / Czech ✗ (Italian)\n",
      "95000 95% (2m 51s) 1.5531 Oleastro / Italian ✗ (Spanish)\n",
      "100000 100% (3m 0s) 1.4474 Abreu / Portuguese ✓\n"
     ]
    }
   ],
   "source": [
    "import time\n",
    "import math\n",
    "\n",
    "n_iters = 100000\n",
    "print_every = 5000\n",
    "plot_every = 1000\n",
    "\n",
    "# Keep track of losses for plotting\n",
    "current_loss = 0\n",
    "all_losses = []\n",
    "\n",
    "def timeSince(since):\n",
    "    now = time.time()\n",
    "    s = now - since\n",
    "    m = math.floor(s / 60)\n",
    "    s -= m * 60\n",
    "    return '%dm %ds' % (m, s)\n",
    "\n",
    "start = time.time()\n",
    "\n",
    "\n",
    "for iter in range(1, n_iters + 1):\n",
    "    \n",
    "    category, line, category_tensor, line_tensor = randomTrainingExample()\n",
    "    \n",
    "    output, loss = train(category_tensor, line_tensor)\n",
    "    \n",
    "    current_loss += loss\n",
    "\n",
    "    # Print iter number, loss, name and guess\n",
    "    if iter % print_every == 0:\n",
    "        guess, guess_i = categoryFromOutput(output)\n",
    "        correct = '✓' if guess == category else '✗ (%s)' % category\n",
    "        print('%d %d%% (%s) %.4f %s / %s %s' % \n",
    "              (iter, iter / n_iters * 100, timeSince(start), loss, line, guess, correct))\n",
    "\n",
    "    # Add current loss avg to list of losses\n",
    "    if iter % plot_every == 0:\n",
    "        all_losses.append(current_loss / plot_every)\n",
    "        current_loss = 0\n",
    "\n"
   ]
  },
  {
   "cell_type": "code",
   "execution_count": 31,
   "metadata": {},
   "outputs": [
    {
     "data": {
      "image/png": "[encoded data removed]",
      "text/plain": [
       "<Figure size 432x288 with 1 Axes>"
      ]
     },
     "metadata": {},
     "output_type": "display_data"
    }
   ],
   "source": [
    "\n",
    "import matplotlib.pyplot as plt\n",
    "import matplotlib.ticker as ticker\n",
    "\n",
    "plt.figure()\n",
    "plt.plot(all_losses)\n",
    "plt.show()\n"
   ]
  },
  {
   "cell_type": "markdown",
   "metadata": {},
   "source": [
    "# # Evaluating the Results\n",
    "\n"
   ]
  },
  {
   "cell_type": "markdown",
   "metadata": {},
   "source": [
    "To see how well the network performs on different categories we will create a confusion matrix indicating for every actual language (rows) which language the network guesses (columns).\n",
    "\n",
    "To calculate the confusion matrix a bunch of samples are run through the network with evaluate(), which is the same as train() minus the backprop."
   ]
  },
  {
   "cell_type": "code",
   "execution_count": 36,
   "metadata": {},
   "outputs": [
    {
     "data": {
      "image/png": "[encoded data removed]",
      "text/plain": [
       "<Figure size 432x288 with 2 Axes>"
      ]
     },
     "metadata": {},
     "output_type": "display_data"
    }
   ],
   "source": [
    "# Keep track of correct guesses in a confusion matrix\n",
    "confusion = torch.zeros(n_categories, n_categories)\n",
    "n_confusion = 10000\n",
    "\n",
    "# Just return an output given a line\n",
    "def evaluate(line_tensor):\n",
    "    hidden = rnn.initHidden()\n",
    "\n",
    "    for i in range(line_tensor.size()[0]):\n",
    "        output, hidden = rnn(line_tensor[i], hidden)\n",
    "\n",
    "    return output\n",
    "\n",
    "# Go through a bunch of examples and record which are correctly guessed\n",
    "for i in range(n_confusion):\n",
    "    category, line, category_tensor, line_tensor = randomTrainingExample()\n",
    "    output = evaluate(line_tensor)\n",
    "    guess, guess_i = categoryFromOutput(output)\n",
    "    category_i = all_categories.index(category)\n",
    "    confusion[category_i][guess_i] += 1\n",
    "\n",
    "# Normalize by dividing every row by its sum\n",
    "for i in range(n_categories):\n",
    "    confusion[i] = confusion[i] / confusion[i].sum()\n",
    "\n",
    "# Set up plot\n",
    "fig = plt.figure()\n",
    "ax = fig.add_subplot(111)\n",
    "cax = ax.matshow(confusion.numpy())\n",
    "fig.colorbar(cax)\n",
    "\n",
    "# Set up axes\n",
    "ax.set_xticklabels([''] + all_categories, rotation=90)\n",
    "ax.set_yticklabels([''] + all_categories)\n",
    "\n",
    "# Force label at every tick\n",
    "ax.xaxis.set_major_locator(ticker.MultipleLocator(1))\n",
    "ax.yaxis.set_major_locator(ticker.MultipleLocator(1))\n",
    "\n",
    "# sphinx_gallery_thumbnail_number = 2\n",
    "plt.show()"
   ]
  },
  {
   "cell_type": "markdown",
   "metadata": {},
   "source": [
    "# Running on User Input"
   ]
  },
  {
   "cell_type": "code",
   "execution_count": 42,
   "metadata": {},
   "outputs": [
    {
     "name": "stdout",
     "output_type": "stream",
     "text": [
      "\n",
      "> Dovesky\n",
      "(-0.81) Czech\n",
      "(-1.04) Russian\n",
      "(-2.41) Polish\n",
      "\n",
      "> Jackson\n",
      "(-0.99) Scottish\n",
      "(-1.02) English\n",
      "(-2.57) Russian\n",
      "\n",
      "> Satosh\n",
      "(-0.59) Arabic\n",
      "(-2.74) French\n",
      "(-2.78) German\n",
      "\n",
      "> Maldini\n",
      "(-0.09) Italian\n",
      "(-3.92) French\n",
      "(-4.10) Irish\n"
     ]
    }
   ],
   "source": [
    "\n",
    "def predict(input_line, n_predictions=3):\n",
    "    print('\\n> %s' % input_line)\n",
    "    with torch.no_grad():\n",
    "        output = evaluate(lineToTensor(input_line))\n",
    "\n",
    "        # Get top N categories\n",
    "        topv, topi = output.topk(n_predictions, 1, True)\n",
    "        predictions = []\n",
    "\n",
    "        for i in range(n_predictions):\n",
    "            value = topv[0][i].item()\n",
    "            category_index = topi[0][i].item()\n",
    "            print('(%.2f) %s' % (value, all_categories[category_index]))\n",
    "            predictions.append([value, all_categories[category_index]])\n",
    "\n",
    "predict('Dovesky')\n",
    "predict('Jackson')\n",
    "predict('Satosh')\n",
    "predict('Maldini')\n"
   ]
  }
 ],
 "metadata": {
  "kernelspec": {
   "display_name": "Python 3",
   "language": "python",
   "name": "python3"
  },
  "language_info": {
   "codemirror_mode": {
    "name": "ipython",
    "version": 3
   },
   "file_extension": ".py",
   "mimetype": "text/x-python",
   "name": "python",
   "nbconvert_exporter": "python",
   "pygments_lexer": "ipython3",
   "version": "3.5.5"
  }
 },
 "nbformat": 4,
 "nbformat_minor": 2
}
