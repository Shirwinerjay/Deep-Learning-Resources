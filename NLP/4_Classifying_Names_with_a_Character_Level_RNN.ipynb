{
 "cells": [
  {
   "cell_type": "markdown",
   "metadata": {},
   "source": [
    "\n",
    "\"\"\"\n",
    "we will be building a basic character level RNN to classify words \n",
    "\n",
    "Read it here \n",
    "https://pytorch.org/tutorials/intermediate/char_rnn_classification_tutorial.html\n",
    "\n",
    "1. read the words as a series of characters \n",
    "\n",
    "2. output a prediction and hidden state at each step \n",
    "\n",
    "3. feed the previous hidden state at each next step\n",
    "\n",
    "Take the final prediction as the output i.e., the class the word \n",
    "belongs to \n",
    "\n",
    "\n",
    "Specifically, we’ll train on a few thousand surnames from 18 languages \n",
    "of origin, and predict which language a name is from based on the spelling:\n",
    "\n",
    "\"\"\"\n"
   ]
  },
  {
   "cell_type": "markdown",
   "metadata": {},
   "source": [
    "# Preparing the data\n"
   ]
  },
  {
   "cell_type": "markdown",
   "metadata": {},
   "source": [
    "\n",
    "\"\"\"\n",
    "\n",
    "included in the data/names directory are \n",
    "18 text files names as \"Language.txt\"\n",
    "\n",
    "each of the file contains a bunch of names \n",
    "one name per line \n",
    "\n",
    "construct a dictionary of lists of names per language \n",
    "\n",
    "{language: [names ...]}\n",
    "\n",
    "\"\"\"\n"
   ]
  },
  {
   "cell_type": "code",
   "execution_count": 1,
   "metadata": {},
   "outputs": [],
   "source": [
    "\n",
    "from __future__ import unicode_literals, print_function, division\n",
    "from io import open\n",
    "import glob\n",
    "import os\n"
   ]
  },
  {
   "cell_type": "code",
   "execution_count": 2,
   "metadata": {},
   "outputs": [
    {
     "name": "stdout",
     "output_type": "stream",
     "text": [
      "['data/names/Polish.txt', 'data/names/Dutch.txt', 'data/names/Italian.txt', 'data/names/Portuguese.txt', 'data/names/Greek.txt', 'data/names/Japanese.txt', 'data/names/French.txt', 'data/names/English.txt', 'data/names/Czech.txt', 'data/names/Korean.txt', 'data/names/Scottish.txt', 'data/names/Spanish.txt', 'data/names/Chinese.txt', 'data/names/Vietnamese.txt', 'data/names/German.txt', 'data/names/Irish.txt', 'data/names/Russian.txt', 'data/names/Arabic.txt']\n"
     ]
    }
   ],
   "source": [
    "\n",
    "def findFiles(path): return glob.glob(path)\n",
    "\n",
    "print(findFiles('data/names/*.txt'))\n"
   ]
  },
  {
   "cell_type": "code",
   "execution_count": 3,
   "metadata": {},
   "outputs": [],
   "source": [
    "\n",
    "import unicodedata\n",
    "import string\n",
    "\n",
    "all_letters = string.ascii_letters + \" .,;'\"\n",
    "n_letters = len(all_letters)\n"
   ]
  },
  {
   "cell_type": "code",
   "execution_count": 4,
   "metadata": {},
   "outputs": [
    {
     "name": "stdout",
     "output_type": "stream",
     "text": [
      "Slusarski\n"
     ]
    }
   ],
   "source": [
    "\n",
    "# Turn a Unicode string to plain ASCII, thanks to http://stackoverflow.com/a/518232/2809427\n",
    "def unicodeToAscii(s):\n",
    "    return ''.join(\n",
    "        c for c in unicodedata.normalize('NFD', s)\n",
    "        if unicodedata.category(c) != 'Mn'\n",
    "        and c in all_letters\n",
    "    )\n",
    "\n",
    "print(unicodeToAscii('Ślusàrski'))\n"
   ]
  },
  {
   "cell_type": "code",
   "execution_count": 5,
   "metadata": {
    "scrolled": true
   },
   "outputs": [
    {
     "name": "stdout",
     "output_type": "stream",
     "text": [
      "data/names/Polish.txt\n",
      "Polish\n",
      "<class 'list'> 139\n",
      "data/names/Dutch.txt\n",
      "Dutch\n",
      "<class 'list'> 297\n",
      "data/names/Italian.txt\n",
      "Italian\n",
      "<class 'list'> 709\n",
      "data/names/Portuguese.txt\n",
      "Portuguese\n",
      "<class 'list'> 74\n",
      "data/names/Greek.txt\n",
      "Greek\n",
      "<class 'list'> 203\n",
      "data/names/Japanese.txt\n",
      "Japanese\n",
      "<class 'list'> 991\n",
      "data/names/French.txt\n",
      "French\n",
      "<class 'list'> 277\n",
      "data/names/English.txt\n",
      "English\n",
      "<class 'list'> 3668\n",
      "data/names/Czech.txt\n",
      "Czech\n",
      "<class 'list'> 519\n",
      "data/names/Korean.txt\n",
      "Korean\n",
      "<class 'list'> 94\n",
      "data/names/Scottish.txt\n",
      "Scottish\n",
      "<class 'list'> 100\n",
      "data/names/Spanish.txt\n",
      "Spanish\n",
      "<class 'list'> 298\n",
      "data/names/Chinese.txt\n",
      "Chinese\n",
      "<class 'list'> 268\n",
      "data/names/Vietnamese.txt\n",
      "Vietnamese\n",
      "<class 'list'> 73\n",
      "data/names/German.txt\n",
      "German\n",
      "<class 'list'> 724\n",
      "data/names/Irish.txt\n",
      "Irish\n",
      "<class 'list'> 232\n",
      "data/names/Russian.txt\n",
      "Russian\n",
      "<class 'list'> 9408\n",
      "data/names/Arabic.txt\n",
      "Arabic\n",
      "<class 'list'> 2000\n"
     ]
    }
   ],
   "source": [
    "\n",
    "# Build the category_lines dictionary, a list of names per language\n",
    "category_lines = {}\n",
    "all_categories = []\n",
    "\n",
    "# Read a file and split into lines\n",
    "def readLines(filename):\n",
    "    lines = open(filename, encoding='utf-8').read().strip().split('\\n')\n",
    "    return [unicodeToAscii(line) for line in lines]\n",
    "\n",
    "\n",
    "\n",
    "for filename in findFiles('data/names/*.txt'):\n",
    "    \n",
    "    \"\"\"\n",
    "    \n",
    "    read each of the file individually \n",
    "    read the category name and append it to the dict all_categories \n",
    "    read the lines in the particulat text file \n",
    "    save it as lines \n",
    "    \n",
    "    lines is a dictionary\n",
    "    whose length is the number of words of that language \n",
    "    add all these words (after unicode conversion) \n",
    "    to the category_lines dictionary\n",
    "    \n",
    "    here category_lines[category] = lines \n",
    "    \n",
    "    so it is like \n",
    "    \n",
    "    category_lines [ english : line1, french : line2, etc]\n",
    "    \n",
    "    \"\"\"\n",
    "    \n",
    "    print(filename)\n",
    "    \n",
    "    category = os.path.splitext(os.path.basename(filename))[0]\n",
    "    \n",
    "    print(category)\n",
    "    \n",
    "    all_categories.append(category)\n",
    "    \n",
    "    lines = readLines(filename)\n",
    "    \n",
    "    print(type(lines), len(lines))\n",
    "    \n",
    "    category_lines[category] = lines\n",
    "\n",
    "    \n",
    "    \n",
    "n_categories = len(all_categories)\n"
   ]
  },
  {
   "cell_type": "code",
   "execution_count": 6,
   "metadata": {},
   "outputs": [
    {
     "name": "stdout",
     "output_type": "stream",
     "text": [
      "['Khoury', 'Nahas', 'Daher', 'Gerges', 'Nazari']\n"
     ]
    }
   ],
   "source": [
    "\n",
    "print(lines[:5])\n"
   ]
  },
  {
   "cell_type": "markdown",
   "metadata": {},
   "source": [
    "\n",
    "\"\"\"\n",
    "Now we have category_lines, a dictionary mapping each category\n",
    "(language) to a list of lines (names). We also kept track of\n",
    "all_categories (just a list of languages) and n_categories for\n",
    "later reference.\n",
    "\"\"\"\n"
   ]
  },
  {
   "cell_type": "code",
   "execution_count": 7,
   "metadata": {},
   "outputs": [
    {
     "name": "stdout",
     "output_type": "stream",
     "text": [
      "['Abandonato', 'Abatangelo', 'Abatantuono', 'Abate', 'Abategiovanni']\n"
     ]
    }
   ],
   "source": [
    "print(category_lines['Italian'][:5])"
   ]
  },
  {
   "cell_type": "code",
   "execution_count": null,
   "metadata": {},
   "outputs": [],
   "source": []
  },
  {
   "cell_type": "markdown",
   "metadata": {},
   "source": [
    "# Turning Names into Tensors"
   ]
  },
  {
   "cell_type": "code",
   "execution_count": 8,
   "metadata": {},
   "outputs": [
    {
     "data": {
      "text/plain": [
       "'\\nNow that we have all the names organized we will need to \\nturn them into tensors\\n\\nsingle letter = one-hot vector = 1 X n_letters\\nword = line_length X 1 X n_letters \\n\\nextra 1 means batch size = 1 \\n'"
      ]
     },
     "execution_count": 8,
     "metadata": {},
     "output_type": "execute_result"
    }
   ],
   "source": [
    "\n",
    "\"\"\"\n",
    "Now that we have all the names organized we will need to \n",
    "turn them into tensors\n",
    "\n",
    "single letter = one-hot vector = 1 X n_letters\n",
    "word = line_length X 1 X n_letters \n",
    "\n",
    "extra 1 means batch size = 1 \n",
    "\"\"\"\n"
   ]
  },
  {
   "cell_type": "code",
   "execution_count": 9,
   "metadata": {},
   "outputs": [
    {
     "name": "stdout",
     "output_type": "stream",
     "text": [
      "tensor([[0., 0., 0., 0., 0., 0., 0., 0., 0., 0., 0., 0., 0., 0., 0., 0., 0., 0.,\n",
      "         0., 0., 0., 0., 0., 0., 0., 0., 0., 0., 0., 0., 0., 0., 0., 0., 0., 1.,\n",
      "         0., 0., 0., 0., 0., 0., 0., 0., 0., 0., 0., 0., 0., 0., 0., 0., 0., 0.,\n",
      "         0., 0., 0.]])\n",
      "torch.Size([5, 1, 57])\n"
     ]
    }
   ],
   "source": [
    "\n",
    "import torch\n",
    "import torch.optim as optim\n",
    "\n",
    "# Find letter index from all_letters, e.g. \"a\" = 0\n",
    "def letterToIndex(letter):\n",
    "    \n",
    "    \"\"\"\n",
    "    \n",
    "    find the index of the letter \n",
    "    in the vocab all_letters\n",
    "    \n",
    "    \"\"\"\n",
    "    \n",
    "    return all_letters.find(letter)\n",
    "\n",
    "# Just for demonstration, turn a letter into a <1 x n_letters> Tensor\n",
    "def letterToTensor(letter):\n",
    "    \n",
    "    \"\"\"\n",
    "    \n",
    "    a letter is represented as 1 X n_letters\n",
    "    we are first creating a tensor of size with zeros \n",
    "    1 X n_letters \n",
    "    then only the index which corresponds to that letter \n",
    "    is made as 1 the rest of them are kept the same as 0\n",
    "    return the tensor\n",
    "    \n",
    "    \"\"\"\n",
    "    \n",
    "    tensor = torch.zeros(1, n_letters)\n",
    "    tensor[0][letterToIndex(letter)] = 1\n",
    "    return tensor\n",
    "\n",
    "# Turn a line into a <line_length x 1 x n_letters>,\n",
    "# or an array of one-hot letter vectors\n",
    "def lineToTensor(line):\n",
    "    \n",
    "    \"\"\"\n",
    "    \n",
    "    this is basically doing the work of letterToTensor\n",
    "    in much faster fashion\n",
    "    \n",
    "    the size of the tensor is (no of letters in word) X 1 X n_letters \n",
    "    li is the no of letters in word \n",
    "    letter is a single letter \n",
    "    \n",
    "    the second dim is the batch size \n",
    "    so the second dim is \"1\" here \n",
    "    \"\"\"\n",
    "    \n",
    "    tensor = torch.zeros(len(line), 1, n_letters)\n",
    "    for li, letter in enumerate(line):\n",
    "        #print(li, letter)\n",
    "        tensor[li][0][letterToIndex(letter)] = 1\n",
    "    return tensor\n",
    "\n",
    "print(letterToTensor('J'))\n",
    "\n",
    "print(lineToTensor('Jones').size())\n"
   ]
  },
  {
   "cell_type": "code",
   "execution_count": null,
   "metadata": {},
   "outputs": [],
   "source": []
  },
  {
   "cell_type": "markdown",
   "metadata": {},
   "source": [
    "# Creating the Network\n"
   ]
  },
  {
   "cell_type": "code",
   "execution_count": 10,
   "metadata": {},
   "outputs": [],
   "source": [
    "# see the tutorial there \n",
    "# https://pytorch.org/tutorials/intermediate/char_rnn_classification_tutorial.html#creating-the-network\n",
    "\n",
    "\"\"\"\n",
    "just two linear layers which operate on an input \n",
    "and hidden state with a logsoftmax layer at the end\n",
    "\n",
    "[input,hidden] --> [combined] (basically concatenation)\n",
    "\n",
    "[combined] --> i2o --> softmax --> [output]\n",
    "\n",
    "[combined] --> i2h --> [hidden]\n",
    "\n",
    "To run a step on this network we need to pass an input \n",
    "and a previous hidden state (which we will initialize first \n",
    "with zeros). We get back the output(probability of each language)\n",
    "and a next hidden state (which we keep for the next step)\n",
    "\n",
    "check that one of the input of the forward step is hidden\n",
    "\n",
    "\"\"\"\n",
    "import torch.nn as nn\n",
    "\n",
    "class RNN(nn.Module):\n",
    "    \n",
    "    def __init__(self, input_size, hidden_size, output_size):\n",
    "        super(RNN, self).__init__()\n",
    "\n",
    "        self.hidden_size = hidden_size\n",
    "\n",
    "        self.i2h = nn.Linear(input_size + hidden_size, hidden_size)\n",
    "        self.i2o = nn.Linear(input_size + hidden_size, output_size)\n",
    "        self.softmax = nn.LogSoftmax(dim=1)\n",
    "\n",
    "    def forward(self, input, hidden):\n",
    "        \n",
    "        combined = torch.cat((input, hidden), 1)\n",
    "        hidden = self.i2h(combined)\n",
    "        output = self.i2o(combined)\n",
    "        output = self.softmax(output)\n",
    "        return output, hidden\n",
    "\n",
    "    def initHidden(self):\n",
    "        \n",
    "        \"\"\"\n",
    "        to initialize the hidden states to zeros \n",
    "        \"\"\"\n",
    "        \n",
    "        return torch.zeros(1, self.hidden_size)\n",
    "\n",
    "n_hidden = 128\n",
    "\n",
    "rnn = RNN(n_letters, n_hidden, n_categories)\n"
   ]
  },
  {
   "cell_type": "code",
   "execution_count": 11,
   "metadata": {},
   "outputs": [
    {
     "name": "stdout",
     "output_type": "stream",
     "text": [
      "RNN(\n",
      "  (i2h): Linear(in_features=185, out_features=128, bias=True)\n",
      "  (i2o): Linear(in_features=185, out_features=18, bias=True)\n",
      "  (softmax): LogSoftmax()\n",
      ")\n"
     ]
    }
   ],
   "source": [
    "\n",
    "print(rnn)\n",
    "\n",
    "input = letterToTensor('A')\n",
    "\n",
    "hidden =torch.zeros(1, n_hidden)\n",
    "\n",
    "output, next_hidden = rnn(input, hidden)\n"
   ]
  },
  {
   "cell_type": "code",
   "execution_count": 12,
   "metadata": {},
   "outputs": [
    {
     "name": "stdout",
     "output_type": "stream",
     "text": [
      "torch.Size([6, 1, 57])\n",
      "tensor([[-2.9105, -2.8565, -2.8697, -2.8199, -2.8657, -2.8845, -3.0012, -2.8621,\n",
      "         -2.9182, -2.8246, -2.8973, -2.9842, -2.9744, -2.8395, -2.8813, -2.8628,\n",
      "         -2.9131, -2.8837]], grad_fn=<LogSoftmaxBackward>)\n",
      "torch.Size([1, 18])\n"
     ]
    }
   ],
   "source": [
    "\n",
    "\"\"\"\n",
    "\n",
    "For the sake of efficiency we don’t want to be creating a new \n",
    "Tensor for every step, so we will use lineToTensor instead of \n",
    "letterToTensor and use slices. This could be further optimized \n",
    "by pre-computing batches of Tensors.\n",
    "\n",
    "slices mean we will be taking one word each at a time\n",
    "\n",
    "\"\"\"\n",
    "\n",
    "\n",
    "input = lineToTensor('Albert')\n",
    "hidden = torch.zeros(1, n_hidden)\n",
    "\n",
    "output, next_hidden = rnn(input[0], hidden)\n",
    "print(input.shape)\n",
    "print(output)\n",
    "print(output.shape)\n"
   ]
  },
  {
   "cell_type": "code",
   "execution_count": null,
   "metadata": {},
   "outputs": [],
   "source": []
  },
  {
   "cell_type": "markdown",
   "metadata": {},
   "source": [
    "# Training\n",
    "# Preparing for Training"
   ]
  },
  {
   "cell_type": "code",
   "execution_count": 13,
   "metadata": {},
   "outputs": [
    {
     "name": "stdout",
     "output_type": "stream",
     "text": [
      "('Portuguese', 3)\n"
     ]
    }
   ],
   "source": [
    "\n",
    "\"\"\"\n",
    "\n",
    "a function to interpret the output of the network\n",
    "which we know to be a likelihood of each category\n",
    "\n",
    "we can use Tensor.topk to get the index of the greatest\n",
    "value\n",
    "\n",
    "output is 1 X no of cat vector \n",
    "\n",
    "check below how this function behaves\n",
    "\"\"\"\n",
    "\n",
    "def categoryFromOutput(output):\n",
    "    top_n, top_i = output.topk(1)\n",
    "    category_i = top_i[0].item()\n",
    "    return all_categories[category_i], category_i\n",
    "\n",
    "print(categoryFromOutput(output))\n"
   ]
  },
  {
   "cell_type": "code",
   "execution_count": 14,
   "metadata": {},
   "outputs": [
    {
     "name": "stdout",
     "output_type": "stream",
     "text": [
      "torch.Size([1, 18])\n",
      "tensor([[-2.8199]], grad_fn=<TopkBackward>)\n",
      "tensor([[3]])\n",
      "3\n",
      "Portuguese\n"
     ]
    }
   ],
   "source": [
    "\n",
    "print(output.shape)\n",
    "\n",
    "top_n, top_i = output.topk(1)\n",
    "\n",
    "print(top_n)\n",
    "print(top_i)\n",
    "\n",
    "category_i = top_i[0].item()\n",
    "print(category_i)\n",
    "\n",
    "print(all_categories[category_i])\n"
   ]
  },
  {
   "cell_type": "code",
   "execution_count": null,
   "metadata": {},
   "outputs": [],
   "source": []
  },
  {
   "cell_type": "code",
   "execution_count": 15,
   "metadata": {},
   "outputs": [
    {
     "name": "stdout",
     "output_type": "stream",
     "text": [
      "category = Irish / line = Riain\n",
      "category = Korean / line = Hwang\n",
      "category = Korean / line = Gwang \n",
      "category = German / line = Tillens\n",
      "category = Vietnamese / line = Ho\n",
      "category = Portuguese / line = Guerra\n",
      "category = Japanese / line = Takishita\n",
      "category = Russian / line = Tupikhin\n",
      "category = Czech / line = Kofel\n",
      "category = French / line = Deschamps\n"
     ]
    }
   ],
   "source": [
    "\n",
    "\"\"\"\n",
    "a quick way to get the training example\n",
    "this is basically \n",
    "a name and its language \n",
    "\"\"\"\n",
    "\n",
    "import random\n",
    "\n",
    "def randomChoice(l):\n",
    "    \"\"\"\n",
    "    returns a random number \n",
    "    to sample from a particular language file\n",
    "    \"\"\"\n",
    "    return l[random.randint(0, len(l) - 1)]\n",
    "\n",
    "def randomTrainingExample():\n",
    "    \n",
    "    \"\"\"\n",
    "    category is a randome category generated from \n",
    "    which we will sample the training sample\n",
    "    eg category = \"Dutch\"\n",
    "    \n",
    "    again we will sample a random word from that selected language file \n",
    "    we will save the random word as line \n",
    "    \n",
    "    category_tensor is basically the target tensor\n",
    "    suppose category = 'Durch'\n",
    "    then all_categories.index(category) = \"1\"\n",
    "    \n",
    "    line_tensor is of dimension no of words in line X 1 X n_letters \n",
    "    \n",
    "    we will return everything\n",
    "    \"\"\"\n",
    "    \n",
    "    category = randomChoice(all_categories)\n",
    "    line = randomChoice(category_lines[category])\n",
    "    category_tensor = torch.tensor([all_categories.index(category)], dtype=torch.long)\n",
    "    line_tensor = lineToTensor(line)\n",
    "    #print(line_tensor.shape)\n",
    "    return category, line, category_tensor, line_tensor\n",
    "\n",
    "for i in range(10):\n",
    "    category, line, category_tensor, line_tensor = randomTrainingExample()\n",
    "    print('category =', category, '/ line =', line)\n"
   ]
  },
  {
   "cell_type": "code",
   "execution_count": 16,
   "metadata": {},
   "outputs": [
    {
     "data": {
      "text/plain": [
       "1"
      ]
     },
     "execution_count": 16,
     "metadata": {},
     "output_type": "execute_result"
    }
   ],
   "source": [
    "all_categories.index('Dutch')"
   ]
  },
  {
   "cell_type": "code",
   "execution_count": null,
   "metadata": {},
   "outputs": [],
   "source": []
  },
  {
   "cell_type": "markdown",
   "metadata": {},
   "source": [
    "# Training the Network\n"
   ]
  },
  {
   "cell_type": "code",
   "execution_count": 17,
   "metadata": {},
   "outputs": [],
   "source": [
    "\n",
    "\"\"\"\n",
    "\n",
    "Now all it takes to train the network is show it a \n",
    "bunch of examples have it make guesses and tell if its \n",
    "wrong\n",
    "\n",
    "we use NLL loss since the last layer of the RNN is \n",
    "nn.LogSoftmax\n",
    "\n",
    "\"\"\"\n",
    "\n",
    "criterion = nn.NLLLoss()\n",
    "\n"
   ]
  },
  {
   "cell_type": "code",
   "execution_count": 18,
   "metadata": {},
   "outputs": [],
   "source": [
    "\n",
    "\"\"\"\n",
    "\n",
    "Each loop of training will:\n",
    "\n",
    "    (1) Create input and target tensors\n",
    "    (2) Create a zeroed initial hidden state\n",
    "    (3) Read each letter in and\n",
    "    (4) Keep hidden state for next letter\n",
    "    (5) Compare final output to target\n",
    "    (6) Back-propagate\n",
    "    (7) Return the output and loss\n",
    "\n",
    "\"\"\"\n",
    "\n",
    "# If you set this too high, it might explode. \n",
    "# If too low, it might not learn\n",
    "learning_rate = 0.005 \n",
    "\n",
    "optimizer = optim.SGD(rnn.parameters(), lr=learning_rate)\n",
    "\n",
    "def train(category_tensor, line_tensor):\n",
    "    \n",
    "    hidden = rnn.initHidden()\n",
    "\n",
    "    rnn.zero_grad()\n",
    "\n",
    "    for i in range(line_tensor.size()[0]):\n",
    "        \n",
    "        output, hidden = rnn(line_tensor[i], hidden)\n",
    "\n",
    "    loss = criterion(output, category_tensor)\n",
    "    \n",
    "    loss.backward()\n",
    "    \n",
    "    \"\"\"\n",
    "    # Add parameters' gradients to their values, \n",
    "    #multiplied by learning rate\n",
    "    for p in rnn.parameters():\n",
    "        p.data.add_(-learning_rate, p.grad.data)\n",
    "    \"\"\"\n",
    "    \n",
    "    optimizer.step()\n",
    "    \n",
    "    return output, loss.item()\n"
   ]
  },
  {
   "cell_type": "code",
   "execution_count": null,
   "metadata": {},
   "outputs": [],
   "source": []
  },
  {
   "cell_type": "code",
   "execution_count": 19,
   "metadata": {},
   "outputs": [
    {
     "name": "stdout",
     "output_type": "stream",
     "text": [
      "5000 5% (0m 7s) 2.8118 Samaha / Japanese ✗ (Arabic)\n",
      "10000 10% (0m 14s) 1.7743 Lawniczak / Polish ✓\n",
      "15000 15% (0m 21s) 2.3454 Amori / Italian ✗ (Japanese)\n",
      "20000 20% (0m 28s) 0.8680 Sokolsky / Polish ✓\n",
      "25000 25% (0m 35s) 1.2745 Antipas / Greek ✓\n",
      "30000 30% (0m 42s) 0.5365 Janovitsky / Russian ✓\n",
      "35000 35% (0m 50s) 1.4867 Fukumitsu / Japanese ✓\n",
      "40000 40% (0m 58s) 2.2091 Martell / English ✗ (German)\n",
      "45000 45% (1m 6s) 1.2069 Chertkov / Scottish ✗ (Russian)\n",
      "50000 50% (1m 14s) 3.2874 Davie / French ✗ (English)\n",
      "55000 55% (1m 21s) 0.5258 D'cruz / Spanish ✓\n",
      "60000 60% (1m 29s) 0.4781 Khoury / Arabic ✓\n",
      "65000 65% (1m 36s) 0.8077 Mansour / Arabic ✓\n",
      "70000 70% (1m 43s) 0.6208 Schmitt / German ✓\n",
      "75000 75% (1m 51s) 0.4347 Youn / Korean ✓\n",
      "80000 80% (1m 59s) 2.1800 Zawisza / Czech ✗ (Polish)\n",
      "85000 85% (2m 6s) 1.5211 Wolter / English ✗ (German)\n",
      "90000 90% (2m 13s) 3.3814 Bohac / Arabic ✗ (Czech)\n",
      "95000 95% (2m 21s) 0.6202 Hua / Chinese ✓\n",
      "100000 100% (2m 28s) 1.3851 Tse / Chinese ✓\n"
     ]
    }
   ],
   "source": [
    "\n",
    "import time\n",
    "import math\n",
    "\n",
    "n_iters = 100000\n",
    "print_every = 5000\n",
    "plot_every = 1000\n",
    "\n",
    "# Keep track of losses for plotting\n",
    "current_loss = 0\n",
    "all_losses = []\n",
    "\n",
    "def timeSince(since):\n",
    "    now = time.time()\n",
    "    s = now - since\n",
    "    m = math.floor(s / 60)\n",
    "    s -= m * 60\n",
    "    return '%dm %ds' % (m, s)\n",
    "\n",
    "start = time.time()\n",
    "\n",
    "\n",
    "for iter in range(1, n_iters + 1):\n",
    "    \n",
    "    category, line, category_tensor, line_tensor = randomTrainingExample()\n",
    "    \n",
    "    output, loss = train(category_tensor, line_tensor)\n",
    "    \n",
    "    current_loss += loss\n",
    "\n",
    "    # Print iter number, loss, name and guess\n",
    "    if iter % print_every == 0:\n",
    "        guess, guess_i = categoryFromOutput(output)\n",
    "        correct = '✓' if guess == category else '✗ (%s)' % category\n",
    "        print('%d %d%% (%s) %.4f %s / %s %s' % (iter, iter / n_iters * 100, timeSince(start), loss, line, guess, correct))\n",
    "\n",
    "    # Add current loss avg to list of losses\n",
    "    if iter % plot_every == 0:\n",
    "        all_losses.append(current_loss / plot_every)\n",
    "        current_loss = 0\n",
    "\n"
   ]
  },
  {
   "cell_type": "code",
   "execution_count": 23,
   "metadata": {},
   "outputs": [
    {
     "data": {
      "text/plain": [
       "[<matplotlib.lines.Line2D at 0x7f3590047b00>]"
      ]
     },
     "execution_count": 23,
     "metadata": {},
     "output_type": "execute_result"
    },
    {
     "data": {
      "image/png": "[encoded data removed]",
      "text/plain": [
       "<Figure size 432x288 with 1 Axes>"
      ]
     },
     "metadata": {},
     "output_type": "display_data"
    }
   ],
   "source": [
    "\n",
    "import matplotlib.pyplot as plt\n",
    "import matplotlib.ticker as ticker\n",
    "\n",
    "plt.figure()\n",
    "plt.plot(all_losses)\n"
   ]
  },
  {
   "cell_type": "code",
   "execution_count": null,
   "metadata": {},
   "outputs": [],
   "source": []
  },
  {
   "cell_type": "markdown",
   "metadata": {},
   "source": [
    "# # Evaluating the Results\n",
    "\n"
   ]
  },
  {
   "cell_type": "markdown",
   "metadata": {},
   "source": [
    "\n",
    "\"\"\"\n",
    "\n",
    "To see how well the network performs on different categories we will\n",
    "create a confusion matrix indicating for every actual language (rows)\n",
    "which language the network guesses (columns).\n",
    "\n",
    "To calculate the confusion matrix a bunch of samples are run through \n",
    "the network with evaluate(), which is the same as train() minus the \n",
    "backprop.\n",
    "\n",
    "\"\"\"\n"
   ]
  },
  {
   "cell_type": "code",
   "execution_count": 21,
   "metadata": {},
   "outputs": [
    {
     "data": {
      "image/png": "[encoded data removed]",
      "text/plain": [
       "<Figure size 432x288 with 2 Axes>"
      ]
     },
     "metadata": {},
     "output_type": "display_data"
    }
   ],
   "source": [
    "\n",
    "# Keep track of correct guesses in a confusion matrix\n",
    "confusion = torch.zeros(n_categories, n_categories)\n",
    "n_confusion = 10000\n",
    "\n",
    "# Just return an output given a line\n",
    "def evaluate(line_tensor):\n",
    "    hidden = rnn.initHidden()\n",
    "\n",
    "    for i in range(line_tensor.size()[0]):\n",
    "        output, hidden = rnn(line_tensor[i], hidden)\n",
    "\n",
    "    return output\n",
    "\n",
    "# Go through a bunch of examples and record which are correctly guessed\n",
    "for i in range(n_confusion):\n",
    "    category, line, category_tensor, line_tensor = randomTrainingExample()\n",
    "    output = evaluate(line_tensor)\n",
    "    guess, guess_i = categoryFromOutput(output)\n",
    "    category_i = all_categories.index(category)\n",
    "    confusion[category_i][guess_i] += 1\n",
    "\n",
    "# Normalize by dividing every row by its sum\n",
    "for i in range(n_categories):\n",
    "    confusion[i] = confusion[i] / confusion[i].sum()\n",
    "\n",
    "# Set up plot\n",
    "fig = plt.figure()\n",
    "ax = fig.add_subplot(111)\n",
    "cax = ax.matshow(confusion.numpy())\n",
    "fig.colorbar(cax)\n",
    "\n",
    "# Set up axes\n",
    "ax.set_xticklabels([''] + all_categories, rotation=90)\n",
    "ax.set_yticklabels([''] + all_categories)\n",
    "\n",
    "# Force label at every tick\n",
    "ax.xaxis.set_major_locator(ticker.MultipleLocator(1))\n",
    "ax.yaxis.set_major_locator(ticker.MultipleLocator(1))\n",
    "\n",
    "# sphinx_gallery_thumbnail_number = 2\n",
    "plt.show()\n"
   ]
  },
  {
   "cell_type": "code",
   "execution_count": null,
   "metadata": {},
   "outputs": [],
   "source": []
  },
  {
   "cell_type": "markdown",
   "metadata": {},
   "source": [
    "# Running on User Input"
   ]
  },
  {
   "cell_type": "code",
   "execution_count": 22,
   "metadata": {},
   "outputs": [
    {
     "name": "stdout",
     "output_type": "stream",
     "text": [
      "\n",
      "> Dovesky\n",
      "(-0.46) Russian\n",
      "(-1.34) Czech\n",
      "(-3.11) English\n",
      "\n",
      "> Jackson\n",
      "(-0.37) Scottish\n",
      "(-2.22) English\n",
      "(-2.40) Russian\n",
      "\n",
      "> Satoshi\n",
      "(-0.60) Japanese\n",
      "(-1.78) Arabic\n",
      "(-2.69) Polish\n"
     ]
    }
   ],
   "source": [
    "\n",
    "def predict(input_line, n_predictions=3):\n",
    "    print('\\n> %s' % input_line)\n",
    "    with torch.no_grad():\n",
    "        output = evaluate(lineToTensor(input_line))\n",
    "\n",
    "        # Get top N categories\n",
    "        topv, topi = output.topk(n_predictions, 1, True)\n",
    "        predictions = []\n",
    "\n",
    "        for i in range(n_predictions):\n",
    "            value = topv[0][i].item()\n",
    "            category_index = topi[0][i].item()\n",
    "            print('(%.2f) %s' % (value, all_categories[category_index]))\n",
    "            predictions.append([value, all_categories[category_index]])\n",
    "\n",
    "predict('Dovesky')\n",
    "predict('Jackson')\n",
    "predict('Satoshi')\n"
   ]
  },
  {
   "cell_type": "code",
   "execution_count": null,
   "metadata": {},
   "outputs": [],
   "source": []
  }
 ],
 "metadata": {
  "kernelspec": {
   "display_name": "Python 3",
   "language": "python",
   "name": "python3"
  },
  "language_info": {
   "codemirror_mode": {
    "name": "ipython",
    "version": 3
   },
   "file_extension": ".py",
   "mimetype": "text/x-python",
   "name": "python",
   "nbconvert_exporter": "python",
   "pygments_lexer": "ipython3",
   "version": "3.5.5"
  }
 },
 "nbformat": 4,
 "nbformat_minor": 2
}
