{
 "cells": [
  {
   "cell_type": "code",
   "execution_count": 1,
   "metadata": {},
   "outputs": [
    {
     "data": {
      "text/plain": [
       "<torch._C.Generator at 0x7f95fdc27130>"
      ]
     },
     "execution_count": 1,
     "metadata": {},
     "output_type": "execute_result"
    }
   ],
   "source": [
    "\n",
    "# Author: Robert Guthrie\n",
    "\n",
    "import torch\n",
    "import torch.nn as nn\n",
    "import torch.nn.functional as F\n",
    "import torch.optim as optim\n",
    "\n",
    "torch.manual_seed(1)\n"
   ]
  },
  {
   "cell_type": "code",
   "execution_count": null,
   "metadata": {},
   "outputs": [],
   "source": []
  },
  {
   "cell_type": "markdown",
   "metadata": {},
   "source": [
    "\n",
    "# Example : logistic regression bag-of-words classifier \n",
    "\n",
    "\"\"\"\n",
    "Read it from here \n",
    "https://pytorch.org/tutorials/beginner/nlp/deep_learning_tutorial.html\n",
    "\n",
    "hello -- index 0 -- bow vector [4, 0]\n",
    "world -- index 1 -- bow vector [2, 2]\n",
    "\n",
    "[count(hello), count(world)]\n",
    "\n",
    "this vector is x\n",
    "output of the network is log softmax(Ax + b)\n",
    "\"\"\"\n",
    "\n",
    "\n",
    "\n"
   ]
  },
  {
   "cell_type": "code",
   "execution_count": 2,
   "metadata": {},
   "outputs": [
    {
     "name": "stdout",
     "output_type": "stream",
     "text": [
      "[(['me', 'gusta', 'comer', 'en', 'la', 'cafeteria'], 'SPANISH'), (['Give', 'it', 'to', 'me'], 'ENGLISH'), (['No', 'creo', 'que', 'sea', 'una', 'buena', 'idea'], 'SPANISH'), (['No', 'it', 'is', 'not', 'a', 'good', 'idea', 'to', 'get', 'lost', 'at', 'sea'], 'ENGLISH')]\n",
      "[(['Yo', 'creo', 'que', 'si'], 'SPANISH'), (['it', 'is', 'lost', 'on', 'me'], 'ENGLISH')]\n"
     ]
    }
   ],
   "source": [
    "\n",
    "data = [(\"me gusta comer en la cafeteria\".split(), \"SPANISH\"),\n",
    "        (\"Give it to me\".split(), \"ENGLISH\"),\n",
    "        (\"No creo que sea una buena idea\".split(), \"SPANISH\"),\n",
    "        (\"No it is not a good idea to get lost at sea\".split(), \"ENGLISH\")]\n",
    "\n",
    "test_data = [(\"Yo creo que si\".split(), \"SPANISH\"),\n",
    "             (\"it is lost on me\".split(), \"ENGLISH\")]\n",
    "\n",
    "\n",
    "print(data)\n",
    "\n",
    "print(test_data)\n",
    "\n"
   ]
  },
  {
   "cell_type": "code",
   "execution_count": 3,
   "metadata": {},
   "outputs": [
    {
     "name": "stdout",
     "output_type": "stream",
     "text": [
      "{'si': 24, 'Yo': 23, 'lost': 21, 'sea': 12, 'a': 18, 'buena': 14, 'comer': 2, 'is': 16, 'una': 13, 'not': 17, 'me': 0, 'good': 19, 'on': 25, 'at': 22, 'creo': 10, 'No': 9, 'cafeteria': 5, 'gusta': 1, 'idea': 15, 'que': 11, 'la': 4, 'get': 20, 'en': 3, 'it': 7, 'Give': 6, 'to': 8}\n"
     ]
    },
    {
     "data": {
      "text/plain": [
       "'\\nhere basically they are mapping words to languages \\nwords are expressed in terms of vocabulary\\nand there are two languages so NUM_LABELS = 2\\n'"
      ]
     },
     "execution_count": 3,
     "metadata": {},
     "output_type": "execute_result"
    }
   ],
   "source": [
    "\n",
    "# word_to_ix maps each word in the vocab to a unique integer, which will be its\n",
    "# index into the Bag of words vector\n",
    "\n",
    "word_to_ix = {}\n",
    "for sent, _ in data + test_data:\n",
    "    # the first index is basically the collection of words \n",
    "    # the second index is the language \n",
    "    #print(sent)\n",
    "    for word in sent:\n",
    "        #print(word)\n",
    "        if word not in word_to_ix:\n",
    "            # the item key is the word itself\n",
    "            # the number to the key is a unique no\n",
    "            # here we are just saying the index is the next one \n",
    "            # of the previous highes index\n",
    "            # suppose already words in dict is 2 then index = 0, 1 \n",
    "            # so when the third word comes we put it as index 2\n",
    "            # i.e. len(word_to_ix)\n",
    "            word_to_ix[word] = len(word_to_ix)\n",
    "            \n",
    "print(word_to_ix)            \n",
    "\n",
    "VOCAB_SIZE = len(word_to_ix)\n",
    "NUM_LABELS = 2\n",
    "\n",
    "\"\"\"\n",
    "here basically they are mapping words to languages \n",
    "words are expressed in terms of vocabulary\n",
    "and there are two languages so NUM_LABELS = 2\n",
    "\"\"\"\n"
   ]
  },
  {
   "cell_type": "code",
   "execution_count": 4,
   "metadata": {},
   "outputs": [],
   "source": [
    "\n",
    "class BoWClassifier(nn.Module):  # inheriting from nn.Module!\n",
    "\n",
    "    def __init__(self, num_labels, vocab_size):\n",
    "        # calls the init function of nn.Module.  \n",
    "        # Dont get confused by syntax,\n",
    "        # just always do it in an nn.Module\n",
    "        super(BoWClassifier, self).__init__()\n",
    "\n",
    "        # Define the parameters that you will need.  \n",
    "        #In this case, we need A and b,\n",
    "        # the parameters of the affine mapping.\n",
    "        # Torch defines nn.Linear(), which provides the affine map.\n",
    "        # Make sure you understand why the input dimension is vocab_size\n",
    "        # and the output is num_labels!\n",
    "        self.linear = nn.Linear(vocab_size, num_labels)\n",
    "\n",
    "        # NOTE! The non-linearity log softmax does not \n",
    "        #have parameters! So we don't need\n",
    "        # to worry about that here\n",
    "\n",
    "    def forward(self, bow_vec):\n",
    "        # Pass the input through the linear layer,\n",
    "        # then pass that through log_softmax.\n",
    "        # Many non-linearities and other functions \n",
    "        # are in torch.nn.functional\n",
    "        return F.log_softmax(self.linear(bow_vec), dim=1)\n",
    "\n"
   ]
  },
  {
   "cell_type": "code",
   "execution_count": 5,
   "metadata": {},
   "outputs": [],
   "source": [
    "\n",
    "def make_bow_vector(sentence, word_to_ix):\n",
    "    \"\"\"\n",
    "    the program receives a sentence which is a list of words \n",
    "    whose vec representation it wants as output\n",
    "    \n",
    "    word_to_ix is which word means which index ?\n",
    "    so we write a loop which goes over all the individual words in \n",
    "    the sentence and retrieves the index of the particular word as \n",
    "    \n",
    "    word_to_ix[word]\n",
    "    \n",
    "    then whatever index is retrieved the count is increased \n",
    "    so a sentence will have a representation of voc length\n",
    "    with each position signifying the count of words occurance \n",
    "    the position is determined by the index stored in word_to_ix\n",
    "    \n",
    "    \"\"\"\n",
    "    vec = torch.zeros(len(word_to_ix))\n",
    "    for word in sentence:\n",
    "        vec[word_to_ix[word]] += 1\n",
    "    return vec.view(1, -1)\n",
    "\n",
    "\n",
    "def make_target(label, label_to_ix):\n",
    "    \"\"\"\n",
    "    a same function as above \n",
    "    this returns the index of the labels \n",
    "    so label_to_ix is like \n",
    "    '0' : english , '1' : spanish \n",
    "    \n",
    "    label is the language whose index we desire\n",
    "    \"\"\"\n",
    "    return torch.LongTensor([label_to_ix[label]])\n"
   ]
  },
  {
   "cell_type": "code",
   "execution_count": 6,
   "metadata": {},
   "outputs": [
    {
     "name": "stdout",
     "output_type": "stream",
     "text": [
      "BoWClassifier(\n",
      "  (linear): Linear(in_features=26, out_features=2, bias=True)\n",
      ")\n"
     ]
    }
   ],
   "source": [
    "\n",
    "model = BoWClassifier(NUM_LABELS, VOCAB_SIZE)\n",
    "\n",
    "print(model)\n"
   ]
  },
  {
   "cell_type": "code",
   "execution_count": null,
   "metadata": {},
   "outputs": [],
   "source": []
  },
  {
   "cell_type": "code",
   "execution_count": 7,
   "metadata": {},
   "outputs": [
    {
     "name": "stdout",
     "output_type": "stream",
     "text": [
      "torch.Size([2, 26])\n",
      "torch.Size([2])\n"
     ]
    }
   ],
   "source": [
    "\n",
    "# the model knows its parameters.  \n",
    "#The first output below is A, the second is b.\n",
    "# Whenever you assign a component to a class variable \n",
    "#in the __init__ function\n",
    "# of a module, which was done with the line\n",
    "# self.linear = nn.Linear(...)\n",
    "# Then through some Python magic from the PyTorch devs, your module\n",
    "# (in this case, BoWClassifier) will store knowledge \n",
    "#of the nn.Linear's parameters\n",
    "for param in model.parameters():\n",
    "    print(param.shape)\n"
   ]
  },
  {
   "cell_type": "code",
   "execution_count": 8,
   "metadata": {},
   "outputs": [
    {
     "name": "stdout",
     "output_type": "stream",
     "text": [
      "(['me', 'gusta', 'comer', 'en', 'la', 'cafeteria'], 'SPANISH')\n",
      "['me', 'gusta', 'comer', 'en', 'la', 'cafeteria'] SPANISH\n",
      "tensor([[-0.8195, -0.5810]])\n"
     ]
    }
   ],
   "source": [
    "\n",
    "# To run the model, pass in a BoW vector\n",
    "# Here we don't need to train, so the code is wrapped in torch.no_grad()\n",
    "with torch.no_grad():\n",
    "    sample = data[0]\n",
    "    \n",
    "    print(sample)\n",
    "    \n",
    "    print(sample[0], sample[1])\n",
    "    \n",
    "    bow_vector = make_bow_vector(sample[0], word_to_ix)\n",
    "    \n",
    "    log_probs = model(bow_vector)\n",
    "    \n",
    "    print(log_probs)\n"
   ]
  },
  {
   "cell_type": "code",
   "execution_count": 9,
   "metadata": {},
   "outputs": [],
   "source": [
    "\"\"\"\n",
    "Which of the above values corresponds to the log probability \n",
    "of ENGLISH, and which to SPANISH? We never defined it, but \n",
    "we need to if we want to train the thing.\n",
    "\"\"\"\n",
    "label_to_ix = {\"SPANISH\": 0, \"ENGLISH\": 1}\n"
   ]
  },
  {
   "cell_type": "code",
   "execution_count": null,
   "metadata": {},
   "outputs": [],
   "source": []
  },
  {
   "cell_type": "code",
   "execution_count": 10,
   "metadata": {},
   "outputs": [
    {
     "name": "stdout",
     "output_type": "stream",
     "text": [
      "tensor([[-0.6250, -0.7662]])\n",
      "tensor([[-0.5870, -0.8119]])\n",
      "tensor([0.0544, 0.1722], grad_fn=<SelectBackward>)\n",
      "tensor([[-0.1210, -2.1721]])\n",
      "tensor([[-2.7767, -0.0643]])\n",
      "tensor([ 0.5004, -0.2738], grad_fn=<SelectBackward>)\n"
     ]
    }
   ],
   "source": [
    "\n",
    "# Run on test data before we train, \n",
    "# just to see a before-and-after\n",
    "with torch.no_grad():\n",
    "    for instance, label in test_data:\n",
    "        bow_vec = make_bow_vector(instance, word_to_ix)\n",
    "        log_probs = model(bow_vec)\n",
    "        print(log_probs)\n",
    "\n",
    "        \n",
    "# Print the matrix column corresponding to \"creo\"\n",
    "print(next(model.parameters())[:, word_to_ix[\"creo\"]])\n",
    "\n",
    "\n",
    "# as we have used the log softmax we use NLL loss\n",
    "# had we not used the log softmax we would have used \n",
    "# the cross-entropy loss\n",
    "loss_function = nn.NLLLoss()\n",
    "optimizer = optim.SGD(model.parameters(), lr=0.1)\n",
    "\n",
    "\n",
    "# Usually you want to pass over the training data several times.\n",
    "# 100 is much bigger than on a real data set, but real datasets \n",
    "# have more than two instances.  \n",
    "# Usually, somewhere between 5 and 30 epochs is reasonable.\n",
    "for epoch in range(100):\n",
    "    \n",
    "    for instance, label in data:\n",
    "        # Step 1. Remember that PyTorch accumulates gradients.\n",
    "        # We need to clear them out before each instance\n",
    "        \n",
    "        model.zero_grad()\n",
    "\n",
    "        # Step 2. Make our BOW vector and also \n",
    "        # we must wrap the target in a Tensor \n",
    "        # as an integer. For example, if the \n",
    "        # target is SPANISH, then we wrap the \n",
    "        # integer 0. The loss function then knows that the 0th\n",
    "        # element of the log probabilities is the log probability\n",
    "        # corresponding to SPANISH\n",
    "        \n",
    "        bow_vec = make_bow_vector(instance, word_to_ix)\n",
    "        target = make_target(label, label_to_ix)\n",
    "\n",
    "        # Step 3. Run our forward pass.\n",
    "\n",
    "        log_probs = model(bow_vec)\n",
    "\n",
    "        # Step 4. Compute the loss, gradients, \n",
    "        # and update the parameters by\n",
    "        # calling optimizer.step()\n",
    "        \n",
    "        loss = loss_function(log_probs, target)\n",
    "        \n",
    "        loss.backward()\n",
    "        \n",
    "        optimizer.step()\n",
    "        \n",
    "        \n",
    "        \n",
    "\n",
    "with torch.no_grad():\n",
    "    for instance, label in test_data:\n",
    "        bow_vec = make_bow_vector(instance, word_to_ix)\n",
    "        log_probs = model(bow_vec)\n",
    "        print(log_probs)\n",
    "\n",
    "# Index corresponding to Spanish goes up, English goes down!\n",
    "print(next(model.parameters())[:, word_to_ix[\"creo\"]])\n",
    "\n"
   ]
  },
  {
   "cell_type": "code",
   "execution_count": null,
   "metadata": {},
   "outputs": [],
   "source": []
  },
  {
   "cell_type": "code",
   "execution_count": null,
   "metadata": {},
   "outputs": [],
   "source": []
  }
 ],
 "metadata": {
  "kernelspec": {
   "display_name": "Python 3",
   "language": "python",
   "name": "python3"
  },
  "language_info": {
   "codemirror_mode": {
    "name": "ipython",
    "version": 3
   },
   "file_extension": ".py",
   "mimetype": "text/x-python",
   "name": "python",
   "nbconvert_exporter": "python",
   "pygments_lexer": "ipython3",
   "version": "3.5.5"
  }
 },
 "nbformat": 4,
 "nbformat_minor": 2
}
