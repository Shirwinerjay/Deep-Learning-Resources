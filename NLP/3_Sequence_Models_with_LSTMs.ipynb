{
 "cells": [
  {
   "cell_type": "markdown",
   "metadata": {},
   "source": [
    "# Sequence Model and LSTMs\n",
    "\n",
    "Read it here \n",
    "https://pytorch.org/tutorials/beginner/nlp/sequence_models_tutorial.html\n",
    "\n",
    "Till now what we have seen is that there no state maintained by\n",
    "the networks at all\n",
    "\n",
    "sequence models are very critical \n",
    "here we want to store some sort of dependence \n",
    "through time between your inputs \n",
    "\n",
    "rnn model keeps some state h_t for each element in the sequence \n",
    "h_t keeps some information about the previous data \n",
    "\n",
    "\n",
    "## Pytorch and LSTMs\n",
    "All pytorch inputs to LSTM's should be 3D tensors \n",
    "\n",
    ">- first axis is sequence  \n",
    ">- second axis is mini-batch\n",
    ">- third axis is index of input \n",
    "\n"
   ]
  },
  {
   "cell_type": "code",
   "execution_count": 1,
   "metadata": {},
   "outputs": [
    {
     "data": {
      "text/plain": [
       "<torch._C.Generator at 0x7fcbd4056fb0>"
      ]
     },
     "execution_count": 1,
     "metadata": {},
     "output_type": "execute_result"
    }
   ],
   "source": [
    "# Author: Robert Guthrie\n",
    "\n",
    "import torch\n",
    "import torch.nn as nn\n",
    "import torch.nn.functional as F\n",
    "import torch.optim as optim\n",
    "import numpy as np\n",
    "\n",
    "torch.manual_seed(1)"
   ]
  },
  {
   "cell_type": "code",
   "execution_count": 17,
   "metadata": {},
   "outputs": [
    {
     "name": "stdout",
     "output_type": "stream",
     "text": [
      "seq : 0\n",
      "  output layer: tensor([[[ 0.7334,  0.3474, -0.0863]]])\n",
      "hidden layer 0: tensor([[[ 0.7334,  0.3474, -0.0863]]]) \n",
      "hidden layer 1: tensor([[[ 1.7581,  0.4428, -0.1023]]])\n",
      "seq : 1\n",
      "  output layer: tensor([[[ 0.4564, -0.1400, -0.2439]]])\n",
      "hidden layer 0: tensor([[[ 0.4564, -0.1400, -0.2439]]]) \n",
      "hidden layer 1: tensor([[[ 0.9739, -0.1904, -0.3135]]])\n",
      "seq : 2\n",
      "  output layer: tensor([[[ 0.3572, -0.2635, -0.2943]]])\n",
      "hidden layer 0: tensor([[[ 0.3572, -0.2635, -0.2943]]]) \n",
      "hidden layer 1: tensor([[[ 0.5302, -0.4634, -0.4558]]])\n",
      "seq : 3\n",
      "  output layer: tensor([[[ 0.1545,  0.0893, -0.0656]]])\n",
      "hidden layer 0: tensor([[[ 0.1545,  0.0893, -0.0656]]]) \n",
      "hidden layer 1: tensor([[[ 0.2552,  0.1104, -0.0917]]])\n",
      "seq : 4\n",
      "  output layer: tensor([[[ 0.1946, -0.1276, -0.3476]]])\n",
      "hidden layer 0: tensor([[[ 0.1946, -0.1276, -0.3476]]]) \n",
      "hidden layer 1: tensor([[[ 0.2526, -0.4293, -0.5375]]])\n"
     ]
    }
   ],
   "source": [
    "lstm = nn.LSTM(3, 3)  # Input dim is 3, output dim is 3\n",
    "inputs = [torch.randn(1, 3) for _ in range(5)]  # make a sequence of length 5\n",
    "\n",
    "# initialize the hidden state.\n",
    "hidden = (torch.randn(1, 1, 3),\n",
    "          torch.randn(1, 1, 3))\n",
    "\n",
    "count = 0\n",
    "#input shape: seq_len x 1 x inputs\n",
    "for i in inputs:\n",
    "    # Step through the sequence one element at a time.\n",
    "    # after each step, hidden contains the hidden state.\n",
    "    out, hidden = lstm(i.view(1, 1, -1), hidden)\n",
    "    print(\"seq : {}\\n  output layer: {}\".format(count,out.data))\n",
    "    print(\"hidden layer 0: {} \\nhidden layer 1: {}\".format(hidden[0].data,hidden[1].data))\n",
    "    count +=1"
   ]
  },
  {
   "cell_type": "code",
   "execution_count": 24,
   "metadata": {},
   "outputs": [
    {
     "name": "stdout",
     "output_type": "stream",
     "text": [
      "5\n"
     ]
    },
    {
     "data": {
      "text/plain": [
       "[tensor([[ 0.7890,  1.1363, -0.1147]]),\n",
       " tensor([[-0.0180,  0.0491,  0.4272]]),\n",
       " tensor([[-0.8996,  0.5313,  0.4034]]),\n",
       " tensor([[ 1.4521, -2.4182, -1.1906]]),\n",
       " tensor([[0.6964, 1.1296, 0.2214]])]"
      ]
     },
     "execution_count": 24,
     "metadata": {},
     "output_type": "execute_result"
    }
   ],
   "source": [
    "print(len(inputs))\n",
    "inputs"
   ]
  },
  {
   "cell_type": "code",
   "execution_count": 25,
   "metadata": {},
   "outputs": [
    {
     "data": {
      "text/plain": [
       "(tensor([[[-0.0145, -0.0034,  0.3334]]], grad_fn=<ViewBackward>),\n",
       " tensor([[[-0.0356, -0.0072,  0.6871]]], grad_fn=<ViewBackward>))"
      ]
     },
     "execution_count": 25,
     "metadata": {},
     "output_type": "execute_result"
    }
   ],
   "source": [
    "hidden"
   ]
  },
  {
   "cell_type": "code",
   "execution_count": 26,
   "metadata": {},
   "outputs": [
    {
     "data": {
      "text/plain": [
       "tensor([[[-0.0145, -0.0034,  0.3334]]], grad_fn=<CatBackward>)"
      ]
     },
     "execution_count": 26,
     "metadata": {},
     "output_type": "execute_result"
    }
   ],
   "source": [
    "out"
   ]
  },
  {
   "cell_type": "code",
   "execution_count": 6,
   "metadata": {},
   "outputs": [
    {
     "name": "stdout",
     "output_type": "stream",
     "text": [
      "tensor([[[-0.0187,  0.1713, -0.2944]],\n",
      "\n",
      "        [[-0.3521,  0.1026, -0.2971]],\n",
      "\n",
      "        [[-0.3191,  0.0781, -0.1957]],\n",
      "\n",
      "        [[-0.1634,  0.0941, -0.1637]],\n",
      "\n",
      "        [[-0.3368,  0.0959, -0.0538]]], grad_fn=<CatBackward>)\n",
      "(tensor([[[-0.3368,  0.0959, -0.0538]]], grad_fn=<ViewBackward>), tensor([[[-0.9825,  0.4715, -0.0633]]], grad_fn=<ViewBackward>))\n"
     ]
    }
   ],
   "source": [
    "# alternatively, we can do the entire sequence all at once.\n",
    "# the first value returned by LSTM is all of the hidden states throughout\n",
    "# the sequence. the second is just the most recent hidden state\n",
    "# (compare the last slice of \"out\" with \"hidden\" below, they are the same)\n",
    "# The reason for this is that:\n",
    "# \"out\" will give you access to all hidden states in the sequence\n",
    "# \"hidden\" will allow you to continue the sequence and backpropagate,\n",
    "# by passing it as an argument  to the lstm at a later time\n",
    "# Add the extra 2nd dimension\n",
    "\n",
    "inputs = torch.cat(inputs).view(len(inputs), 1, -1)\n",
    "hidden = (torch.randn(1, 1, 3), torch.randn(1, 1, 3))  # clean out hidden state\n",
    "out, hidden = lstm(inputs, hidden)"
   ]
  },
  {
   "cell_type": "code",
   "execution_count": 15,
   "metadata": {},
   "outputs": [
    {
     "name": "stdout",
     "output_type": "stream",
     "text": [
      "tensor([[[-0.0187,  0.1713, -0.2944]],\n",
      "\n",
      "        [[-0.3521,  0.1026, -0.2971]],\n",
      "\n",
      "        [[-0.3191,  0.0781, -0.1957]],\n",
      "\n",
      "        [[-0.1634,  0.0941, -0.1637]],\n",
      "\n",
      "        [[-0.3368,  0.0959, -0.0538]]], grad_fn=<CatBackward>)\n",
      "Last layer : \n",
      "tensor([[-0.3368,  0.0959, -0.0538]], grad_fn=<SelectBackward>)\n",
      "Hidden layer  \n",
      "(tensor([[[-0.3368,  0.0959, -0.0538]]], grad_fn=<ViewBackward>), tensor([[[-0.9825,  0.4715, -0.0633]]], grad_fn=<ViewBackward>))\n"
     ]
    }
   ],
   "source": [
    "print(out)\n",
    "print(\"Last layer : \\n{}\".format(out[-1]))\n",
    "print(\"Hidden layer  \\n{}\".format(hidden))"
   ]
  },
  {
   "cell_type": "code",
   "execution_count": 36,
   "metadata": {},
   "outputs": [
    {
     "name": "stdout",
     "output_type": "stream",
     "text": [
      "[(['The', 'dog', 'ate', 'the', 'apple'], ['DET', 'NN', 'V', 'DET', 'NN']), (['Everybody', 'read', 'that', 'book'], ['NN', 'V', 'DET', 'NN'])]\n",
      "{'dog': 1, 'ate': 2, 'read': 6, 'the': 3, 'apple': 4, 'that': 7, 'book': 8, 'The': 0, 'Everybody': 5}\n"
     ]
    }
   ],
   "source": [
    "def prepare_sequence(seq, to_ix):\n",
    "    idxs = [to_ix[w] for w in seq]\n",
    "    return torch.tensor(idxs, dtype=torch.long)\n",
    "\n",
    "\n",
    "training_data = [\n",
    "    (\"The dog ate the apple\".split(), [\"DET\", \"NN\", \"V\", \"DET\", \"NN\"]),\n",
    "    (\"Everybody read that book\".split(), [\"NN\", \"V\", \"DET\", \"NN\"])\n",
    "]\n",
    "print(training_data)\n",
    "word_to_ix = {}\n",
    "for sent, tags in training_data:\n",
    "    for word in sent:\n",
    "        if word not in word_to_ix:\n",
    "            word_to_ix[word] = len(word_to_ix)\n",
    "print(word_to_ix)\n",
    "tag_to_ix = {\"DET\": 0, \"NN\": 1, \"V\": 2}\n",
    "\n",
    "# These will usually be more like 32 or 64 dimensional.\n",
    "# We will keep them small, so we can see how the weights change as we train.\n",
    "EMBEDDING_DIM = 6\n",
    "HIDDEN_DIM = 6"
   ]
  },
  {
   "cell_type": "code",
   "execution_count": 60,
   "metadata": {},
   "outputs": [],
   "source": [
    "class LSTMTagger(nn.Module):\n",
    "\n",
    "    def __init__(self, embedding_dim, hidden_dim, vocab_size, tagset_size):\n",
    "        super(LSTMTagger, self).__init__()\n",
    "        self.hidden_dim = hidden_dim\n",
    "\n",
    "        self.word_embeddings = nn.Embedding(vocab_size, embedding_dim)\n",
    "\n",
    "        # The LSTM takes word embeddings as inputs, and outputs hidden states\n",
    "        # with dimensionality hidden_dim.\n",
    "        self.lstm = nn.LSTM(embedding_dim, hidden_dim)\n",
    "\n",
    "        # The linear layer that maps from hidden state space to tag space\n",
    "        self.hidden2tag = nn.Linear(hidden_dim, tagset_size)\n",
    "        self.hidden = self.init_hidden()\n",
    "\n",
    "    def init_hidden(self):\n",
    "        # Before we've done anything, we dont have any hidden state.\n",
    "        # Refer to the Pytorch documentation to see exactly\n",
    "        # why they have this dimensionality.\n",
    "        # The axes semantics are (num_layers, minibatch_size, hidden_dim)\n",
    "        return (torch.zeros(1, 1, self.hidden_dim),\n",
    "                torch.zeros(1, 1, self.hidden_dim))\n",
    "\n",
    "    def forward(self, sentence):\n",
    "        embeds = self.word_embeddings(sentence)\n",
    "        print(\"Embedding dim: {}\".format(embeds.shape))\n",
    "        lstm_out, self.hidden = self.lstm(\n",
    "            embeds.view(len(sentence), 1, -1), self.hidden)\n",
    "        print(\"LSTM out shape:{}\".format(lstm_out.shape))\n",
    "        print(\"hidden :{}\".format(hidden))\n",
    "        tag_space = self.hidden2tag(lstm_out.view(len(sentence), -1))\n",
    "        print(\"tag_space : {}\".format(tag_space))\n",
    "        tag_scores = F.log_softmax(tag_space, dim=1)\n",
    "        return tag_scores"
   ]
  },
  {
   "cell_type": "code",
   "execution_count": 61,
   "metadata": {},
   "outputs": [
    {
     "data": {
      "text/plain": [
       "LSTMTagger(\n",
       "  (word_embeddings): Embedding(9, 6)\n",
       "  (lstm): LSTM(6, 6)\n",
       "  (hidden2tag): Linear(in_features=6, out_features=3, bias=True)\n",
       ")"
      ]
     },
     "execution_count": 61,
     "metadata": {},
     "output_type": "execute_result"
    }
   ],
   "source": [
    "model = model = LSTMTagger(EMBEDDING_DIM, HIDDEN_DIM, len(word_to_ix), len(tag_to_ix))\n",
    "model"
   ]
  },
  {
   "cell_type": "code",
   "execution_count": 63,
   "metadata": {},
   "outputs": [
    {
     "name": "stdout",
     "output_type": "stream",
     "text": [
      "Embedding dim: torch.Size([5, 6])\n",
      "LSTM out shape:torch.Size([5, 1, 6])\n",
      "hidden :(tensor([[[-0.0145, -0.0034,  0.3334]]], grad_fn=<ViewBackward>), tensor([[[-0.0356, -0.0072,  0.6871]]], grad_fn=<ViewBackward>))\n",
      "tag_space : tensor([[-0.1854,  0.1023, -0.2464],\n",
      "        [-0.1842,  0.0884, -0.1563],\n",
      "        [-0.2289,  0.1244, -0.1270],\n",
      "        [-0.1396,  0.0581, -0.2744],\n",
      "        [-0.1028,  0.0537, -0.3059]])\n",
      "TAG SCORES before training: \n",
      "tensor([[-1.1861, -0.8983, -1.2471],\n",
      "        [-1.2065, -0.9338, -1.1786],\n",
      "        [-1.2616, -0.9083, -1.1597],\n",
      "        [-1.1289, -0.9313, -1.2638],\n",
      "        [-1.0938, -0.9373, -1.2969]])\n",
      "Embedding dim: torch.Size([5, 6])\n",
      "LSTM out shape:torch.Size([5, 1, 6])\n",
      "hidden :(tensor([[[-0.0145, -0.0034,  0.3334]]], grad_fn=<ViewBackward>), tensor([[[-0.0356, -0.0072,  0.6871]]], grad_fn=<ViewBackward>))\n",
      "tag_space : tensor([[-0.2155,  0.1076, -0.2071],\n",
      "        [-0.1968,  0.0869, -0.1487],\n",
      "        [-0.2385,  0.1227, -0.1248],\n",
      "        [-0.1417,  0.0526, -0.2739],\n",
      "        [-0.1058,  0.0536, -0.3074]], grad_fn=<ThAddmmBackward>)\n",
      "Embedding dim: torch.Size([4, 6])\n",
      "LSTM out shape:torch.Size([4, 1, 6])\n",
      "hidden :(tensor([[[-0.0145, -0.0034,  0.3334]]], grad_fn=<ViewBackward>), tensor([[[-0.0356, -0.0072,  0.6871]]], grad_fn=<ViewBackward>))\n",
      "tag_space : tensor([[-0.1728,  0.1342, -0.2201],\n",
      "        [-0.0984,  0.0950, -0.1568],\n",
      "        [-0.1467,  0.1031, -0.2585],\n",
      "        [-0.2252,  0.1610, -0.4080]], grad_fn=<ThAddmmBackward>)\n",
      "Embedding dim: torch.Size([5, 6])\n",
      "LSTM out shape:torch.Size([5, 1, 6])\n",
      "hidden :(tensor([[[-0.0145, -0.0034,  0.3334]]], grad_fn=<ViewBackward>), tensor([[[-0.0356, -0.0072,  0.6871]]], grad_fn=<ViewBackward>))\n",
      "tag_space : tensor([[-0.2096,  0.1144, -0.2243],\n",
      "        [-0.1929,  0.0948, -0.1630],\n",
      "        [-0.2360,  0.1322, -0.1395],\n",
      "        [-0.1365,  0.0606, -0.2926],\n",
      "        [-0.1044,  0.0664, -0.3263]], grad_fn=<ThAddmmBackward>)\n",
      "Embedding dim: torch.Size([4, 6])\n",
      "LSTM out shape:torch.Size([4, 1, 6])\n",
      "hidden :(tensor([[[-0.0145, -0.0034,  0.3334]]], grad_fn=<ViewBackward>), tensor([[[-0.0356, -0.0072,  0.6871]]], grad_fn=<ViewBackward>))\n",
      "tag_space : tensor([[-0.1725,  0.1462, -0.2341],\n",
      "        [-0.0960,  0.1036, -0.1694],\n",
      "        [-0.1435,  0.1128, -0.2759],\n",
      "        [-0.2222,  0.1734, -0.4274]], grad_fn=<ThAddmmBackward>)\n",
      "Embedding dim: torch.Size([5, 6])\n",
      "LSTM out shape:torch.Size([5, 1, 6])\n",
      "hidden :(tensor([[[-0.0145, -0.0034,  0.3334]]], grad_fn=<ViewBackward>), tensor([[[-0.0356, -0.0072,  0.6871]]], grad_fn=<ViewBackward>))\n",
      "tag_space : tensor([[-0.2038,  0.1204, -0.2406],\n",
      "        [-0.1892,  0.1019, -0.1763],\n",
      "        [-0.2337,  0.1408, -0.1532],\n",
      "        [-0.1315,  0.0678, -0.3103],\n",
      "        [-0.1031,  0.0784, -0.3443]], grad_fn=<ThAddmmBackward>)\n",
      "Embedding dim: torch.Size([4, 6])\n",
      "LSTM out shape:torch.Size([4, 1, 6])\n",
      "hidden :(tensor([[[-0.0145, -0.0034,  0.3334]]], grad_fn=<ViewBackward>), tensor([[[-0.0356, -0.0072,  0.6871]]], grad_fn=<ViewBackward>))\n",
      "tag_space : tensor([[-0.1724,  0.1574, -0.2471],\n",
      "        [-0.0937,  0.1114, -0.1811],\n",
      "        [-0.1405,  0.1217, -0.2923],\n",
      "        [-0.2193,  0.1850, -0.4458]], grad_fn=<ThAddmmBackward>)\n",
      "Embedding dim: torch.Size([5, 6])\n",
      "LSTM out shape:torch.Size([5, 1, 6])\n",
      "hidden :(tensor([[[-0.0145, -0.0034,  0.3334]]], grad_fn=<ViewBackward>), tensor([[[-0.0356, -0.0072,  0.6871]]], grad_fn=<ViewBackward>))\n",
      "tag_space : tensor([[-0.2052,  0.1390, -0.3335],\n",
      "        [-0.2036,  0.1301, -0.2342],\n",
      "        [-0.2382,  0.1598, -0.1968],\n",
      "        [-0.1289,  0.0785, -0.3364],\n",
      "        [-0.1034,  0.0921, -0.3657]])\n",
      "tensor([[-1.1910, -0.8468, -1.3193],\n",
      "        [-1.2137, -0.8800, -1.2443],\n",
      "        [-1.2616, -0.8636, -1.2202],\n",
      "        [-1.1129, -0.9055, -1.3203],\n",
      "        [-1.0937, -0.8981, -1.3560]])\n"
     ]
    }
   ],
   "source": [
    "#model = LSTMTagger(EMBEDDING_DIM, HIDDEN_DIM, len(word_to_ix), len(tag_to_ix))\n",
    "loss_function = nn.NLLLoss()\n",
    "optimizer = optim.SGD(model.parameters(), lr=0.1)\n",
    "\n",
    "# See what the scores are before training\n",
    "# Note that element i,j of the output is the score for tag j for word i.\n",
    "# Here we don't need to train, so the code is wrapped in torch.no_grad()\n",
    "with torch.no_grad():\n",
    "    inputs = prepare_sequence(training_data[0][0], word_to_ix)\n",
    "    tag_scores = model(inputs)\n",
    "    print(\"TAG SCORES before training: \\n{}\".format(tag_scores))\n",
    "\n",
    "for epoch in range(3):  # again, normally you would NOT do 300 epochs, it is toy data\n",
    "    for sentence, tags in training_data:\n",
    "        # Step 1. Remember that Pytorch accumulates gradients.\n",
    "        # We need to clear them out before each instance\n",
    "        model.zero_grad()\n",
    "\n",
    "        # Also, we need to clear out the hidden state of the LSTM,\n",
    "        # detaching it from its history on the last instance.\n",
    "        model.hidden = model.init_hidden()\n",
    "\n",
    "        # Step 2. Get our inputs ready for the network, that is, turn them into\n",
    "        # Tensors of word indices.\n",
    "        sentence_in = prepare_sequence(sentence, word_to_ix)\n",
    "        targets = prepare_sequence(tags, tag_to_ix)\n",
    "\n",
    "        # Step 3. Run our forward pass.\n",
    "        tag_scores = model(sentence_in)\n",
    "\n",
    "        # Step 4. Compute the loss, gradients, and update the parameters by\n",
    "        #  calling optimizer.step()\n",
    "        loss = loss_function(tag_scores, targets)\n",
    "        loss.backward()\n",
    "        optimizer.step()\n",
    "\n",
    "# See what the scores are after training\n",
    "with torch.no_grad():\n",
    "    inputs = prepare_sequence(training_data[0][0], word_to_ix)\n",
    "    tag_scores = model(inputs)\n",
    "\n",
    "    # The sentence is \"the dog ate the apple\".  i,j corresponds to score for tag j\n",
    "    # for word i. The predicted tag is the maximum scoring tag.\n",
    "    # Here, we can see the predicted sequence below is 0 1 2 0 1\n",
    "    # since 0 is index of the maximum value of row 1,\n",
    "    # 1 is the index of maximum value of row 2, etc.\n",
    "    # Which is DET NOUN VERB DET NOUN, the correct sequence!\n",
    "    print(tag_scores)"
   ]
  }
 ],
 "metadata": {
  "kernelspec": {
   "display_name": "Python 3",
   "language": "python",
   "name": "python3"
  },
  "language_info": {
   "codemirror_mode": {
    "name": "ipython",
    "version": 3
   },
   "file_extension": ".py",
   "mimetype": "text/x-python",
   "name": "python",
   "nbconvert_exporter": "python",
   "pygments_lexer": "ipython3",
   "version": "3.5.5"
  }
 },
 "nbformat": 4,
 "nbformat_minor": 2
}
