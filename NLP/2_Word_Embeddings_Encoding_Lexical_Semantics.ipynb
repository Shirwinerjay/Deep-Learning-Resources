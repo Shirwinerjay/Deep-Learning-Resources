{
 "cells": [
  {
   "cell_type": "markdown",
   "metadata": {},
   "source": [
    "\n",
    "# Read from here:\n",
    "\n",
    "### https://pytorch.org/tutorials/beginner/nlp/word_embeddings_tutorial.html\n",
    "\n",
    "What we really want is a notion of similarity between words.\n",
    "\n",
    "It is a technique to combat the sparsity of linguistic data, by connecting the dots between what we have seen and what we haven’t. This should be captured by the deep network themselves and not be designed by the programmer \n",
    "\n",
    "SO WHY NOT LET THE WORD EMBEDDINGS BE THE PARAMETERS IN OUR MODEL WHICH ARE THEN UPDATED DURING TRAINING \n",
    "\n",
    "Word embeddings will probably not be interpretable. "
   ]
  },
  {
   "cell_type": "markdown",
   "metadata": {},
   "source": [
    "# Word Embeddings : Encoding Lexical Semantics\n"
   ]
  },
  {
   "cell_type": "code",
   "execution_count": 1,
   "metadata": {},
   "outputs": [
    {
     "name": "stdout",
     "output_type": "stream",
     "text": [
      "{'hello': 0, 'world': 1}\n",
      "tensor([[ 0.6614,  0.2669,  0.0617,  0.6213, -0.4519],\n",
      "        [-0.1661, -1.5228,  0.3817, -1.0276, -0.5631]])\n",
      "torch.Size([2, 5])\n"
     ]
    }
   ],
   "source": [
    "\"\"\"\n",
    "word embedding in python\n",
    "\n",
    "we need to define an index for each word \n",
    "when using embeddings. These will be the keys\n",
    "into a lookup table.\n",
    "\n",
    "Thus the embeddings will be stored as |V| X D matrix\n",
    "where D is the dimensionality of the embeddings \n",
    "\n",
    "word i --> ith row of the matrix \n",
    "\n",
    "the mapping from words to indices is a dictionary\n",
    "named to word_to_idx\n",
    "\n",
    "\"\"\"\n",
    "\n",
    "# Author: Robert Guthrie\n",
    "\n",
    "import torch\n",
    "import torch.nn as nn\n",
    "import torch.nn.functional as F\n",
    "import torch.optim as optim\n",
    "\n",
    "torch.manual_seed(1)\n",
    "\n",
    "word_to_ix = {\"hello\": 0, \"world\": 1}\n",
    "\n",
    "print(word_to_ix)\n",
    "\n",
    "embeds = nn.Embedding(2, 5)  # 2 words in vocab, 5 dimensional embeddings\n",
    "\n",
    "# lookup_tensor returns the index \n",
    "# and converts it into long tensor\n",
    "lookup_tensor = torch.tensor([word_to_ix[\"hello\"],word_to_ix[\"world\"]], dtype=torch.long)\n",
    "\n",
    "# returns the row of the embedding vector\n",
    "hello_embed = embeds(lookup_tensor)\n",
    "\n",
    "print(hello_embed)\n",
    "print(hello_embed.shape)"
   ]
  },
  {
   "cell_type": "code",
   "execution_count": 2,
   "metadata": {},
   "outputs": [
    {
     "name": "stdout",
     "output_type": "stream",
     "text": [
      "Embedding(2, 5)\n"
     ]
    }
   ],
   "source": [
    "\"\"\"\n",
    "let us have a short description of the embedding layer\n",
    "\n",
    "the input are (num_embeddings, embedding_dim, \n",
    "               padding_idx=None, max_norm=None, \n",
    "               norm_type=2, scale_grad_by_freq=False, \n",
    "               sparse=False, _weight=None)\n",
    "\n",
    "read it here \n",
    "https://pytorch.org/docs/stable/nn.html#torch.nn.Embedding\n",
    "\n",
    "num_embeddings = size of dictionary \n",
    "embedding_dim = dim of embedding\n",
    "\n",
    "ALSO YOU CAN LOAD AN EMBEDDING\n",
    "https://pytorch.org/docs/stable/nn.html#torch.nn.Embedding.from_pretrained\n",
    "\n",
    "\"\"\"\n",
    "print(embeds)"
   ]
  },
  {
   "cell_type": "markdown",
   "metadata": {},
   "source": [
    "# N-Gram Language Modeling"
   ]
  },
  {
   "cell_type": "markdown",
   "metadata": {},
   "source": [
    "Here given a sequence of words w we want to compute  P( w_i | w_(i-1), ....., w_(i-n+1) ) where w_i is the ith word of the sequence.\n",
    "<br/>\n",
    "We compute the loss function on some training examples  and then update the parameters with backpropagation.\n",
    "<br/>"
   ]
  },
  {
   "cell_type": "code",
   "execution_count": 3,
   "metadata": {},
   "outputs": [
    {
     "name": "stdout",
     "output_type": "stream",
     "text": [
      "[(['When', 'forty'], 'winters'), (['forty', 'winters'], 'shall'), (['winters', 'shall'], 'besiege')]\n"
     ]
    }
   ],
   "source": [
    "CONTEXT_SIZE = 2\n",
    "EMBEDDING_DIM = 10\n",
    "\n",
    "# We will use Shakespeare Sonnet 2\n",
    "\n",
    "test_sentence = \"\"\"When forty winters shall besiege thy brow,\n",
    "And dig deep trenches in thy beauty's field,\n",
    "Thy youth's proud livery so gazed on now,\n",
    "Will be a totter'd weed of small worth held:\n",
    "Then being asked, where all thy beauty lies,\n",
    "Where all the treasure of thy lusty days;\n",
    "To say, within thine own deep sunken eyes,\n",
    "Were an all-eating shame, and thriftless praise.\n",
    "How much more praise deserv'd thy beauty's use,\n",
    "If thou couldst answer 'This fair child of mine\n",
    "Shall sum my count, and make my old excuse,'\n",
    "Proving his beauty by succession thine!\n",
    "This were to be new made when thou art old,\n",
    "And see thy blood warm when thou feel'st it cold.\"\"\".split()\n",
    "\n",
    "# we should tokenize the input, but we will ignore that for now\n",
    "# build a list of tuples. \n",
    "# Each tuple is ([ word_i-2, word_i-1 ], target word)\n",
    "# THIS IS WHAT IS MEANT BY CONTEXT \n",
    "# WE WILL CONSIDER ONLY TWO PREVIOUS WORDS HENCE CONTEXT SIZE = 2\n",
    "\n",
    "trigrams = [([test_sentence[i], test_sentence[i + 1]], test_sentence[i + 2])\n",
    "            for i in range(len(test_sentence) - 2)]\n",
    "\n",
    "# print the first 3, just so you can see what they look like\n",
    "print(trigrams[:3])\n",
    "\n",
    "# get the unique words \n",
    "vocab = set(test_sentence)\n",
    "\n",
    "word_to_ix = {word: i for i, word in enumerate(vocab)}"
   ]
  },
  {
   "cell_type": "code",
   "execution_count": 4,
   "metadata": {},
   "outputs": [
    {
     "name": "stdout",
     "output_type": "stream",
     "text": [
      "115\n",
      "97\n",
      "<class 'list'>\n",
      "length of trigrams: 113\n",
      "(['When', 'forty'], 'winters')\n",
      "(['forty', 'winters'], 'shall')\n",
      "(['winters', 'shall'], 'besiege')\n",
      "the length of vocab\n",
      "97\n",
      "{'the': 0, \"totter'd\": 1, 'trenches': 50, 'When': 51, 'Were': 2, 'a': 3, \"excuse,'\": 52, 'small': 53, 'to': 91, 'and': 5, 'days;': 6, 'old': 7, 'lusty': 9, 'an': 10, 'own': 11, 'beauty': 12, 'thine': 55, 'were': 56, 'thou': 13, 'lies,': 57, 'eyes,': 58, 'besiege': 61, 'all': 15, 'sunken': 16, 'of': 18, \"'This\": 62, 'Where': 48, 'where': 63, 'praise.': 64, 'much': 20, 'If': 21, 'treasure': 34, 'being': 65, 'within': 67, 'in': 68, 'my': 4, 'Will': 69, \"feel'st\": 60, 'all-eating': 22, 'proud': 23, 'sum': 70, 'field,': 24, 'mine': 92, 'make': 25, \"deserv'd\": 71, 'it': 72, 'deep': 17, 'dig': 73, 'when': 76, 'thy': 28, 'more': 93, 'forty': 74, 'shame,': 75, 'held:': 26, 'made': 27, 'worth': 77, 'answer': 78, 'Then': 79, 'Proving': 29, 'new': 30, \"beauty's\": 31, 'livery': 80, 'Thy': 33, 'his': 81, 'succession': 87, 'cold.': 82, 'fair': 83, 'say,': 84, 'winters': 35, 'thriftless': 85, 'thine!': 14, 'child': 36, 'praise': 37, 'To': 88, 'be': 54, 'shall': 38, 'brow,': 94, 'How': 39, 'couldst': 40, 'see': 41, 'Shall': 32, 'This': 89, 'And': 90, 'so': 19, 'asked,': 66, 'old,': 86, 'count,': 59, 'now,': 42, 'by': 43, 'on': 44, 'weed': 8, 'blood': 45, 'gazed': 46, 'art': 47, 'use,': 95, \"youth's\": 49, 'warm': 96}\n"
     ]
    }
   ],
   "source": [
    "# total no of words \n",
    "print(len(test_sentence))\n",
    "\n",
    "# total no of words in voc\n",
    "print(len(set(test_sentence)))\n",
    "\n",
    "print(type(trigrams))\n",
    "print(\"length of trigrams: {}\".format(len(trigrams)))\n",
    "\n",
    "for i in range(len(trigrams)):\n",
    "    print(trigrams[i])\n",
    "    if i+1==3:\n",
    "        break\n",
    "\n",
    "print('the length of vocab')\n",
    "print(len(vocab))\n",
    "\n",
    "\"\"\"\n",
    "for i, word in enumerate(vocab):\n",
    "    print(i, word)\n",
    "\"\"\"\n",
    "\n",
    "print(word_to_ix)"
   ]
  },
  {
   "cell_type": "code",
   "execution_count": 26,
   "metadata": {},
   "outputs": [],
   "source": [
    "\"\"\"\n",
    "a little explanation\n",
    "embeddings layer converts the inputs into the vector\n",
    "which is then passed through --> linear1 --> relu \n",
    "--> linear2 --> log_softmax\n",
    "\n",
    "observe that the linear1 layer is like (2*embedding_dim) -->(128)\n",
    "which basically means it will take the word embeddings of two words \n",
    "as input together and then convert to a 128 dim vector.\n",
    "\n",
    "In this example the context size is two words, that is used to \n",
    "predict the third word. \n",
    "\"\"\"\n",
    "\n",
    "class NGramLanguageModeler(nn.Module):\n",
    "\n",
    "    def __init__(self, vocab_size, embedding_dim, context_size):\n",
    "        super(NGramLanguageModeler, self).__init__()\n",
    "        self.embeddings = nn.Embedding(vocab_size, embedding_dim)\n",
    "        print(\"self.embeddings.shape Embedding(vocab size,dimension):\",self.embeddings)\n",
    "        self.linear1 = nn.Linear(context_size * embedding_dim, 128)\n",
    "        print(\"self.linear1.shape: \",self.linear1)\n",
    "        self.linear2 = nn.Linear(128, vocab_size)\n",
    "        print(\"self.linear2.shape :\",self.linear2)\n",
    "        \n",
    "    def forward(self, inputs):\n",
    "        dummy_out = self.embeddings(inputs)\n",
    "        print(\"dummy_out shape: \",dummy_out)\n",
    "        embeds = self.embeddings(inputs).view((1, -1))\n",
    "        print(\"enbed\")\n",
    "        out = F.relu(self.linear1(embeds))\n",
    "        out = self.linear2(out)\n",
    "        log_probs = F.log_softmax(out, dim=1)\n",
    "        return log_probs, dummy_out\n"
   ]
  },
  {
   "cell_type": "code",
   "execution_count": 27,
   "metadata": {},
   "outputs": [
    {
     "name": "stdout",
     "output_type": "stream",
     "text": [
      "self.embeddings.shape Embedding(vocab size,dimension): Embedding(97, 10)\n",
      "self.linear1.shape:  Linear(in_features=20, out_features=128, bias=True)\n",
      "self.linear2.shape : Linear(in_features=128, out_features=97, bias=True)\n"
     ]
    }
   ],
   "source": [
    "losses = []\n",
    "loss_function = nn.NLLLoss()\n",
    "\n",
    "model = NGramLanguageModeler(\n",
    "    vocab_size=len(vocab),\n",
    "    embedding_dim= EMBEDDING_DIM,\n",
    "    context_size= CONTEXT_SIZE)\n",
    "\n",
    "optimizer = optim.SGD(model.parameters(), lr=0.001)"
   ]
  },
  {
   "cell_type": "code",
   "execution_count": 28,
   "metadata": {
    "scrolled": false
   },
   "outputs": [
    {
     "name": "stdout",
     "output_type": "stream",
     "text": [
      "NGramLanguageModeler(\n",
      "  (embeddings): Embedding(97, 10)\n",
      "  (linear1): Linear(in_features=20, out_features=128, bias=True)\n",
      "  (linear2): Linear(in_features=128, out_features=97, bias=True)\n",
      ")\n",
      "embeddings.weight\n",
      "linear1.weight\n",
      "linear1.bias\n",
      "linear2.weight\n",
      "linear2.bias\n"
     ]
    }
   ],
   "source": [
    "print(model)\n",
    "\n",
    "for params in model.named_parameters():\n",
    "    print(params[0])"
   ]
  },
  {
   "cell_type": "code",
   "execution_count": null,
   "metadata": {},
   "outputs": [
    {
     "name": "stdout",
     "output_type": "stream",
     "text": [
      "['When', 'forty'] winters\n",
      "torch.Size([2])\n",
      "dummy_out shape:  tensor([[-0.1773, -1.2818,  0.0191,  0.0305, -0.5312, -0.0357,  0.1381,\n",
      "         -1.3279, -2.3791,  0.0060],\n",
      "        [-0.4342,  0.2437,  1.6761, -0.1521, -0.6779,  1.2820, -1.0480,\n",
      "          0.5994, -1.8145,  1.0090]])\n",
      "dummy_output shape: torch.Size([2, 10])\n",
      "> <ipython-input-30-ed1c49076720>(40)<module>()\n",
      "-> dummy_output = dummy_output.view((1, -1))\n",
      "(Pdb) c\n",
      "dummy_output shape: torch.Size([1, 20])\n",
      "> <ipython-input-30-ed1c49076720>(44)<module>()\n",
      "-> log_probs, _ = model(context_idxs)\n",
      "(Pdb) dummy_output\n",
      "tensor([[-0.1773, -1.2818,  0.0191,  0.0305, -0.5312, -0.0357,  0.1381,\n",
      "         -1.3279, -2.3791,  0.0060, -0.4342,  0.2437,  1.6761, -0.1521,\n",
      "         -0.6779,  1.2820, -1.0480,  0.5994, -1.8145,  1.0090]])\n"
     ]
    }
   ],
   "source": [
    "import pdb\n",
    "\n",
    "for epoch in range(10):\n",
    "    \n",
    "    total_loss = 0\n",
    "    \n",
    "    for context, target in trigrams:\n",
    "\n",
    "        # Step 1. Prepare the inputs to be passed to the model \n",
    "        # (i.e, turn the words into integer indices and wrap \n",
    "        # them in tensors)\n",
    "        print(context, target)\n",
    "        \n",
    "        context_idxs = torch.tensor([word_to_ix[w] for w in context], \n",
    "                                    dtype=torch.long)\n",
    "        \n",
    "        # as context size is \"2\"\n",
    "        print(context_idxs.shape)\n",
    "        \n",
    "        # Step 2. Recall that torch *accumulates* gradients. Before passing in a\n",
    "        # new instance, you need to zero out the gradients from the old\n",
    "        # instance\n",
    "        model.zero_grad()\n",
    "\n",
    "        # Step 3. Run the forward pass, getting log probabilities over next\n",
    "        # words\n",
    "        \n",
    "        \"\"\"\n",
    "        let us study this part a bit more \n",
    "        dummy_output is a torch of tensor size \n",
    "        context X embedding_dim\n",
    "        \n",
    "        which is converted into a torch tensor of shape\n",
    "        1 X (2 X embedding_dim)\n",
    "        which goes to the linear1 layer\n",
    "        \"\"\"\n",
    "        _, dummy_output = model(context_idxs)\n",
    "        print(\"dummy_output shape: {}\".format(dummy_output.shape))\n",
    "        pdb.set_trace()\n",
    "        dummy_output = dummy_output.view((1, -1))\n",
    "        print(\"dummy_output shape: {}\".format(dummy_output.shape))\n",
    "        pdb.set_trace()\n",
    "        \n",
    "        log_probs, _ = model(context_idxs)\n",
    "\n",
    "        # Step 4. Compute your loss function. (Again, Torch wants the target\n",
    "        # word wrapped in a tensor)\n",
    "        loss = loss_function(log_probs, torch.tensor(\n",
    "            [word_to_ix[target]], dtype=torch.long))\n",
    "\n",
    "        # Step 5. Do the backward pass and update the gradient\n",
    "        loss.backward()\n",
    "        optimizer.step()\n",
    "\n",
    "        # Get the Python number from a 1-element Tensor by calling tensor.item()\n",
    "        total_loss += loss.item()\n",
    "        \n",
    "    losses.append(total_loss)\n",
    "    \n",
    "print(losses)  # The loss decreased every iteration over the training data!\n"
   ]
  },
  {
   "cell_type": "markdown",
   "metadata": {},
   "source": [
    "# Computing Word Embeddins: Continuous Bag-of-Words"
   ]
  },
  {
   "cell_type": "markdown",
   "metadata": {},
   "source": [
    "\n",
    "\"\"\"\n",
    "Let us explain it in small details \n",
    "\n",
    "predict words given the context of a few words before and a few words \n",
    "after the target word \n",
    "\n",
    "not a sequential model and does not have a probabilistic interpretation\n",
    "\n",
    "Typcially, CBOW is used to quickly train word embeddings, and these \n",
    "embeddings are used to initialize the embeddings of some more complicated \n",
    "model. Usually, this is referred to as pretraining embeddings. It \n",
    "almost always helps performance a couple of percent.\n",
    "\n",
    "The model is like this \n",
    "\n",
    "given a target word w_i and N context window on each side \n",
    "i.e., w_(i-1), ..., w_(i-N) and w_(i+1), ..., w_(i+N)\n",
    "refer to all context words as C\n",
    "\n",
    "CBOW tries to minimize \n",
    "-log P(w_i|C) = -log softmax ( A * \\sum_(w \\in C) q_w + b)\n",
    "\n",
    "which basically means collect all the context words and then\n",
    "get their word embeddings and add them up and multiply with \n",
    "A and add bias to get the final representation \n",
    "\n",
    "from this compute the prob of the target word \n",
    "\n",
    "I BELIEVE THAT THE FINAL DIM SHOULD BE THE SIZE OF THE \n",
    "VOCABULARY\n",
    "THE LOSS WILL BE NLL LOSS OR CROSS-ENTROPY LOSS\n",
    "\n",
    "\"\"\"\n"
   ]
  },
  {
   "cell_type": "code",
   "execution_count": 9,
   "metadata": {
    "scrolled": true
   },
   "outputs": [],
   "source": [
    "\n",
    "CONTEXT_SIZE = 2  # 2 words to the left, 2 to the right\n",
    "raw_text = \"\"\"We are about to study the idea of a computational process.\n",
    "Computational processes are abstract beings that inhabit computers.\n",
    "As they evolve, processes manipulate other abstract things called data.\n",
    "The evolution of a process is directed by a pattern of rules\n",
    "called a program. People create programs to direct processes. In effect,\n",
    "we conjure the spirits of the computer with our spells.\"\"\".split()\n",
    "\n",
    "# By deriving a set from `raw_text`, we deduplicate the array\n",
    "vocab = set(raw_text)\n",
    "vocab_size = len(vocab)\n",
    "\n",
    "word_to_ix = {word: i for i, word in enumerate(vocab)}\n"
   ]
  },
  {
   "cell_type": "code",
   "execution_count": 10,
   "metadata": {},
   "outputs": [
    {
     "name": "stdout",
     "output_type": "stream",
     "text": [
      "[(['We', 'are', 'to', 'study'], 'about'), (['are', 'about', 'study', 'the'], 'to'), (['about', 'to', 'the', 'idea'], 'study'), (['to', 'study', 'idea', 'of'], 'the'), (['study', 'the', 'of', 'a'], 'idea')]\n",
      "(['We', 'are', 'to', 'study'], 'about')\n",
      "(['are', 'about', 'study', 'the'], 'to')\n",
      "(['about', 'to', 'the', 'idea'], 'study')\n",
      "(['to', 'study', 'idea', 'of'], 'the')\n",
      "(['study', 'the', 'of', 'a'], 'idea')\n"
     ]
    }
   ],
   "source": [
    "\n",
    "\"\"\"\n",
    "collecting the data in terms of the context\n",
    "\"\"\"\n",
    "\n",
    "data = []\n",
    "for i in range(2, len(raw_text) - 2):\n",
    "    context = [raw_text[i - 2], raw_text[i - 1],\n",
    "               raw_text[i + 1], raw_text[i + 2]]\n",
    "    target = raw_text[i]\n",
    "    data.append((context, target))\n",
    "    \n",
    "print(data[:5])\n",
    "\n",
    "for i in range(len(data)):\n",
    "    if i==5:\n",
    "        break\n",
    "    print(data[i])\n"
   ]
  },
  {
   "cell_type": "code",
   "execution_count": 11,
   "metadata": {},
   "outputs": [],
   "source": [
    "\n",
    "class CBOW(nn.Module):\n",
    "\n",
    "    def __init__(self):\n",
    "        pass\n",
    "\n",
    "    def forward(self, inputs):\n",
    "        pass\n"
   ]
  },
  {
   "cell_type": "code",
   "execution_count": 12,
   "metadata": {},
   "outputs": [
    {
     "name": "stdout",
     "output_type": "stream",
     "text": [
      "['We', 'are', 'to', 'study'] about\n"
     ]
    },
    {
     "data": {
      "text/plain": [
       "tensor([41, 46, 23,  4])"
      ]
     },
     "execution_count": 12,
     "metadata": {},
     "output_type": "execute_result"
    }
   ],
   "source": [
    "\n",
    "# create your model and train.  here are some functions to help you make\n",
    "# the data ready for use by your module\n",
    "\n",
    "\n",
    "def make_context_vector(context, word_to_ix):\n",
    "    idxs = [word_to_ix[w] for w in context]\n",
    "    return torch.tensor(idxs, dtype=torch.long)\n",
    "\n",
    "\n",
    "print(data[0][0], data[0][1])\n",
    "\n",
    "# data[0][0] is the input \n",
    "# data[0][1] is the target\n",
    "\n",
    "make_context_vector(data[0][0], word_to_ix)  # example\n"
   ]
  }
 ],
 "metadata": {
  "kernelspec": {
   "display_name": "Python 3",
   "language": "python",
   "name": "python3"
  },
  "language_info": {
   "codemirror_mode": {
    "name": "ipython",
    "version": 3
   },
   "file_extension": ".py",
   "mimetype": "text/x-python",
   "name": "python",
   "nbconvert_exporter": "python",
   "pygments_lexer": "ipython3",
   "version": "3.5.5"
  }
 },
 "nbformat": 4,
 "nbformat_minor": 2
}
